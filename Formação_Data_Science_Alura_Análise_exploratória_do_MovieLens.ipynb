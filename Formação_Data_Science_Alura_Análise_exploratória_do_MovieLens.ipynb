{
  "nbformat": 4,
  "nbformat_minor": 0,
  "metadata": {
    "kernelspec": {
      "display_name": "Python 3",
      "language": "python",
      "name": "python3"
    },
    "language_info": {
      "codemirror_mode": {
        "name": "ipython",
        "version": 3
      },
      "file_extension": ".py",
      "mimetype": "text/x-python",
      "name": "python",
      "nbconvert_exporter": "python",
      "pygments_lexer": "ipython3",
      "version": "3.7.0"
    },
    "colab": {
      "name": "Formação Data Science Alura - Análise exploratória do MovieLens.ipynb",
      "provenance": [],
      "collapsed_sections": [
        "ZCsGtrb-DtJP",
        "L8hD9qIGDtKL",
        "SmPqAzMoDtKT",
        "Qn0JJQEFDtKU",
        "Jws05Ry4DtKj",
        "3Ta2av60DtKu",
        "nv-x6vt1DtLA",
        "BNdS_EqlDtLB",
        "GoPkP2Q9DtLf",
        "QJhZ6y5xDtLn"
      ]
    }
  },
  "cells": [
    {
      "cell_type": "markdown",
      "metadata": {
        "id": "o60reD33DtIc",
        "colab_type": "text"
      },
      "source": [
        "## André Manesco Araújo\n",
        "## Nas análises feitas com dos dados do MovieLens foi possível descobrir quais são os gêneros de filmes mais votados pelos telespectadores bem como os que eles mais tem preferência. Também é possível verificar quais os gêneros que tem seu público mais fiel, tendo notas mais consisas e com menor variação."
      ]
    },
    {
      "cell_type": "markdown",
      "metadata": {
        "id": "08w6lPVnDtIe",
        "colab_type": "text"
      },
      "source": [
        "## Formação Data Science Alura - Análise exploratória do MovieLens\n",
        "\n",
        "Na formação de Data Scienda www.alura.com.br um dos conjuntos de dados que utilizamos é o de avaliações para filmes no site MovieLens. Neste projeto faremos uma análise exploratória desses dados."
      ]
    },
    {
      "cell_type": "markdown",
      "metadata": {
        "id": "Eznf1AZvDtIg",
        "colab_type": "text"
      },
      "source": [
        "### Dicas para o projeto completo:\n",
        "\n",
        "- todo gráfico deve ter um título, labels e legendas que fazem sentido\n",
        "- configure um tamanho adequado para os gráficos\n",
        "- utilize as versões dos arquivos de dados disponíveis no github"
      ]
    },
    {
      "cell_type": "markdown",
      "metadata": {
        "id": "H4WIUJIkDtIh",
        "colab_type": "text"
      },
      "source": [
        "## Pergunta: conferindo as versões utilizadas\n",
        "\n",
        "- Devemos usar pandas 0.24.0 ou mais recente\n",
        "- Devemos usar seaborn 0.9.0 ou mais recente\n",
        "- Devemos usar scipy 1.2.0 ou mais recente"
      ]
    },
    {
      "cell_type": "code",
      "metadata": {
        "id": "jOZBtzE0DtIi",
        "colab_type": "code",
        "colab": {}
      },
      "source": [
        "#!pip install pandas==\"0.24.0\" --quiet\n",
        "#!pip install seaborn==\"0.9.0\" --quiet\n",
        "#!pip install scipy==\"1.2.0\" --quiet"
      ],
      "execution_count": 0,
      "outputs": []
    },
    {
      "cell_type": "code",
      "metadata": {
        "id": "ZNEejFmSDtIn",
        "colab_type": "code",
        "outputId": "cbefd1be-2f02-4144-d127-9da1092904ae",
        "colab": {
          "base_uri": "https://localhost:8080/",
          "height": 122
        }
      },
      "source": [
        "import pandas as pd\n",
        "import seaborn as sns\n",
        "import scipy\n",
        "\n",
        "print(\"Usando pandas %s\" % pd.__version__)\n",
        "print(\"Usando seaborn %s\" % sns.__version__)\n",
        "print(\"Usando scipy %s\" % scipy.__version__)"
      ],
      "execution_count": 2,
      "outputs": [
        {
          "output_type": "stream",
          "text": [
            "Usando pandas 1.0.3\n",
            "Usando seaborn 0.10.1\n",
            "Usando scipy 1.4.1\n"
          ],
          "name": "stdout"
        },
        {
          "output_type": "stream",
          "text": [
            "/usr/local/lib/python3.6/dist-packages/statsmodels/tools/_testing.py:19: FutureWarning: pandas.util.testing is deprecated. Use the functions in the public API at pandas.testing instead.\n",
            "  import pandas.util.testing as tm\n"
          ],
          "name": "stderr"
        }
      ]
    },
    {
      "cell_type": "markdown",
      "metadata": {
        "id": "zn6T9WGjDtIr",
        "colab_type": "text"
      },
      "source": [
        "## Pergunta: carregue os filmes\n",
        "\n",
        "- os dados `https://raw.githubusercontent.com/alura-cursos/formacao-data-science/master/movies.csv` devem ser carregado em `filmes`\n",
        "- renomeie as colunas para `filmeId`, `titulo` e `generos`\n",
        "- configure o indice (`index`) para ser o `filmeId`"
      ]
    },
    {
      "cell_type": "code",
      "metadata": {
        "id": "-CJrFkIhDtIr",
        "colab_type": "code",
        "colab": {}
      },
      "source": [
        "# solução\n",
        "filmes = pd.read_csv('movies.csv')\n",
        "filmes.rename(columns = {'movieId':'filmeId', 'title':'titulo', 'genres':'generos'}, inplace = True)\n",
        "filmes.set_index('filmeId', inplace = True)"
      ],
      "execution_count": 0,
      "outputs": []
    },
    {
      "cell_type": "code",
      "metadata": {
        "id": "4TtfuPrTDtIv",
        "colab_type": "code",
        "outputId": "a57cfdd5-bfee-4150-fc38-5581a79975c1",
        "colab": {
          "base_uri": "https://localhost:8080/",
          "height": 235
        }
      },
      "source": [
        "filmes.head()"
      ],
      "execution_count": 4,
      "outputs": [
        {
          "output_type": "execute_result",
          "data": {
            "text/html": [
              "<div>\n",
              "<style scoped>\n",
              "    .dataframe tbody tr th:only-of-type {\n",
              "        vertical-align: middle;\n",
              "    }\n",
              "\n",
              "    .dataframe tbody tr th {\n",
              "        vertical-align: top;\n",
              "    }\n",
              "\n",
              "    .dataframe thead th {\n",
              "        text-align: right;\n",
              "    }\n",
              "</style>\n",
              "<table border=\"1\" class=\"dataframe\">\n",
              "  <thead>\n",
              "    <tr style=\"text-align: right;\">\n",
              "      <th></th>\n",
              "      <th>titulo</th>\n",
              "      <th>generos</th>\n",
              "    </tr>\n",
              "    <tr>\n",
              "      <th>filmeId</th>\n",
              "      <th></th>\n",
              "      <th></th>\n",
              "    </tr>\n",
              "  </thead>\n",
              "  <tbody>\n",
              "    <tr>\n",
              "      <th>1</th>\n",
              "      <td>Toy Story (1995)</td>\n",
              "      <td>Adventure|Animation|Children|Comedy|Fantasy</td>\n",
              "    </tr>\n",
              "    <tr>\n",
              "      <th>2</th>\n",
              "      <td>Jumanji (1995)</td>\n",
              "      <td>Adventure|Children|Fantasy</td>\n",
              "    </tr>\n",
              "    <tr>\n",
              "      <th>3</th>\n",
              "      <td>Grumpier Old Men (1995)</td>\n",
              "      <td>Comedy|Romance</td>\n",
              "    </tr>\n",
              "    <tr>\n",
              "      <th>4</th>\n",
              "      <td>Waiting to Exhale (1995)</td>\n",
              "      <td>Comedy|Drama|Romance</td>\n",
              "    </tr>\n",
              "    <tr>\n",
              "      <th>5</th>\n",
              "      <td>Father of the Bride Part II (1995)</td>\n",
              "      <td>Comedy</td>\n",
              "    </tr>\n",
              "  </tbody>\n",
              "</table>\n",
              "</div>"
            ],
            "text/plain": [
              "                                     titulo                                      generos\n",
              "filmeId                                                                                 \n",
              "1                          Toy Story (1995)  Adventure|Animation|Children|Comedy|Fantasy\n",
              "2                            Jumanji (1995)                   Adventure|Children|Fantasy\n",
              "3                   Grumpier Old Men (1995)                               Comedy|Romance\n",
              "4                  Waiting to Exhale (1995)                         Comedy|Drama|Romance\n",
              "5        Father of the Bride Part II (1995)                                       Comedy"
            ]
          },
          "metadata": {
            "tags": []
          },
          "execution_count": 4
        }
      ]
    },
    {
      "cell_type": "code",
      "metadata": {
        "scrolled": true,
        "id": "PL_VEK_JDtIy",
        "colab_type": "code",
        "outputId": "3ebfce34-26ab-4256-918a-56f365d8b8fa",
        "colab": {
          "base_uri": "https://localhost:8080/",
          "height": 34
        }
      },
      "source": [
        "print(\"Carregamos %d filmes\" % len(filmes))\n",
        "if(len(filmes) != 9742):\n",
        "    print(\"ERRO! O conjunto de dados que estamos trabalhando nesse projeto possui 9742 elementos.\")"
      ],
      "execution_count": 5,
      "outputs": [
        {
          "output_type": "stream",
          "text": [
            "Carregamos 9742 filmes\n"
          ],
          "name": "stdout"
        }
      ]
    },
    {
      "cell_type": "markdown",
      "metadata": {
        "id": "IWiXiEnqDtI1",
        "colab_type": "text"
      },
      "source": [
        "Vamos extrair o ano dos filmes (código já pronto): "
      ]
    },
    {
      "cell_type": "code",
      "metadata": {
        "id": "xuTOhq2vDtI2",
        "colab_type": "code",
        "outputId": "9d64c2e5-9088-44da-a5e1-8752e3bb547a",
        "colab": {
          "base_uri": "https://localhost:8080/",
          "height": 235
        }
      },
      "source": [
        "ano_de_lancamento = filmes.titulo.str.extract(\"\\((\\d{4})\\)\")\n",
        "filmes['ano_de_lancamento'] = ano_de_lancamento.astype(float)\n",
        "filmes.head()"
      ],
      "execution_count": 6,
      "outputs": [
        {
          "output_type": "execute_result",
          "data": {
            "text/html": [
              "<div>\n",
              "<style scoped>\n",
              "    .dataframe tbody tr th:only-of-type {\n",
              "        vertical-align: middle;\n",
              "    }\n",
              "\n",
              "    .dataframe tbody tr th {\n",
              "        vertical-align: top;\n",
              "    }\n",
              "\n",
              "    .dataframe thead th {\n",
              "        text-align: right;\n",
              "    }\n",
              "</style>\n",
              "<table border=\"1\" class=\"dataframe\">\n",
              "  <thead>\n",
              "    <tr style=\"text-align: right;\">\n",
              "      <th></th>\n",
              "      <th>titulo</th>\n",
              "      <th>generos</th>\n",
              "      <th>ano_de_lancamento</th>\n",
              "    </tr>\n",
              "    <tr>\n",
              "      <th>filmeId</th>\n",
              "      <th></th>\n",
              "      <th></th>\n",
              "      <th></th>\n",
              "    </tr>\n",
              "  </thead>\n",
              "  <tbody>\n",
              "    <tr>\n",
              "      <th>1</th>\n",
              "      <td>Toy Story (1995)</td>\n",
              "      <td>Adventure|Animation|Children|Comedy|Fantasy</td>\n",
              "      <td>1995.0</td>\n",
              "    </tr>\n",
              "    <tr>\n",
              "      <th>2</th>\n",
              "      <td>Jumanji (1995)</td>\n",
              "      <td>Adventure|Children|Fantasy</td>\n",
              "      <td>1995.0</td>\n",
              "    </tr>\n",
              "    <tr>\n",
              "      <th>3</th>\n",
              "      <td>Grumpier Old Men (1995)</td>\n",
              "      <td>Comedy|Romance</td>\n",
              "      <td>1995.0</td>\n",
              "    </tr>\n",
              "    <tr>\n",
              "      <th>4</th>\n",
              "      <td>Waiting to Exhale (1995)</td>\n",
              "      <td>Comedy|Drama|Romance</td>\n",
              "      <td>1995.0</td>\n",
              "    </tr>\n",
              "    <tr>\n",
              "      <th>5</th>\n",
              "      <td>Father of the Bride Part II (1995)</td>\n",
              "      <td>Comedy</td>\n",
              "      <td>1995.0</td>\n",
              "    </tr>\n",
              "  </tbody>\n",
              "</table>\n",
              "</div>"
            ],
            "text/plain": [
              "                                     titulo  ... ano_de_lancamento\n",
              "filmeId                                      ...                  \n",
              "1                          Toy Story (1995)  ...            1995.0\n",
              "2                            Jumanji (1995)  ...            1995.0\n",
              "3                   Grumpier Old Men (1995)  ...            1995.0\n",
              "4                  Waiting to Exhale (1995)  ...            1995.0\n",
              "5        Father of the Bride Part II (1995)  ...            1995.0\n",
              "\n",
              "[5 rows x 3 columns]"
            ]
          },
          "metadata": {
            "tags": []
          },
          "execution_count": 6
        }
      ]
    },
    {
      "cell_type": "markdown",
      "metadata": {
        "id": "nmeLmyZtDtI6",
        "colab_type": "text"
      },
      "source": [
        "## Pergunta: carregando as notas\n",
        "\n",
        "- os dados `https://raw.githubusercontent.com/alura-cursos/formacao-data-science/master/ratings.csv` devem ser carregado em `notas`\n",
        "- renomeie as colunas para `usuarioId`, `filmeId`, `nota` e `momento`"
      ]
    },
    {
      "cell_type": "code",
      "metadata": {
        "id": "pMIaRYJgDtI6",
        "colab_type": "code",
        "colab": {}
      },
      "source": [
        "# solução\n",
        "notas = pd.read_csv('ratings.csv')\n",
        "notas.rename(columns= {'usetId':'usuarioId', 'movieId':'filmeId', 'rating':'nota', 'timestamp':'momento'}, inplace = True)"
      ],
      "execution_count": 0,
      "outputs": []
    },
    {
      "cell_type": "code",
      "metadata": {
        "id": "zqDLTSWUDtI9",
        "colab_type": "code",
        "outputId": "b8bf87c3-c963-4278-d65e-6c76904c5ded",
        "colab": {
          "base_uri": "https://localhost:8080/",
          "height": 204
        }
      },
      "source": [
        "notas.head()"
      ],
      "execution_count": 8,
      "outputs": [
        {
          "output_type": "execute_result",
          "data": {
            "text/html": [
              "<div>\n",
              "<style scoped>\n",
              "    .dataframe tbody tr th:only-of-type {\n",
              "        vertical-align: middle;\n",
              "    }\n",
              "\n",
              "    .dataframe tbody tr th {\n",
              "        vertical-align: top;\n",
              "    }\n",
              "\n",
              "    .dataframe thead th {\n",
              "        text-align: right;\n",
              "    }\n",
              "</style>\n",
              "<table border=\"1\" class=\"dataframe\">\n",
              "  <thead>\n",
              "    <tr style=\"text-align: right;\">\n",
              "      <th></th>\n",
              "      <th>userId</th>\n",
              "      <th>filmeId</th>\n",
              "      <th>nota</th>\n",
              "      <th>momento</th>\n",
              "    </tr>\n",
              "  </thead>\n",
              "  <tbody>\n",
              "    <tr>\n",
              "      <th>0</th>\n",
              "      <td>1</td>\n",
              "      <td>1</td>\n",
              "      <td>4.0</td>\n",
              "      <td>964982703</td>\n",
              "    </tr>\n",
              "    <tr>\n",
              "      <th>1</th>\n",
              "      <td>1</td>\n",
              "      <td>3</td>\n",
              "      <td>4.0</td>\n",
              "      <td>964981247</td>\n",
              "    </tr>\n",
              "    <tr>\n",
              "      <th>2</th>\n",
              "      <td>1</td>\n",
              "      <td>6</td>\n",
              "      <td>4.0</td>\n",
              "      <td>964982224</td>\n",
              "    </tr>\n",
              "    <tr>\n",
              "      <th>3</th>\n",
              "      <td>1</td>\n",
              "      <td>47</td>\n",
              "      <td>5.0</td>\n",
              "      <td>964983815</td>\n",
              "    </tr>\n",
              "    <tr>\n",
              "      <th>4</th>\n",
              "      <td>1</td>\n",
              "      <td>50</td>\n",
              "      <td>5.0</td>\n",
              "      <td>964982931</td>\n",
              "    </tr>\n",
              "  </tbody>\n",
              "</table>\n",
              "</div>"
            ],
            "text/plain": [
              "   userId  filmeId  nota    momento\n",
              "0       1        1   4.0  964982703\n",
              "1       1        3   4.0  964981247\n",
              "2       1        6   4.0  964982224\n",
              "3       1       47   5.0  964983815\n",
              "4       1       50   5.0  964982931"
            ]
          },
          "metadata": {
            "tags": []
          },
          "execution_count": 8
        }
      ]
    },
    {
      "cell_type": "markdown",
      "metadata": {
        "id": "Soq3ZOuKDtJC",
        "colab_type": "text"
      },
      "source": [
        "## Pergunta: gere uma nova feature, a média dos votos por filme\n",
        "\n",
        "- crie uma nova coluna chamada `nota_media` dentro do dataframe `filmes`\n",
        "\n",
        "Dicas:\n",
        "- como filmeId já é o indice de seu dataframe filmes, se você possui uma série com o número de votos por filme, basta atribuir uma nova coluna normalmente que será usado o mesmo índice"
      ]
    },
    {
      "cell_type": "code",
      "metadata": {
        "id": "ByJWhMRWDtJD",
        "colab_type": "code",
        "colab": {}
      },
      "source": [
        "# solução\n",
        "filmes['nota_media'] = notas.groupby('filmeId').nota.mean()"
      ],
      "execution_count": 0,
      "outputs": []
    },
    {
      "cell_type": "code",
      "metadata": {
        "id": "ZdpTFjNtDtJG",
        "colab_type": "code",
        "outputId": "e25d982e-1eee-4098-fedb-a7d2a9d4c979",
        "colab": {
          "base_uri": "https://localhost:8080/",
          "height": 235
        }
      },
      "source": [
        "filmes.head()"
      ],
      "execution_count": 10,
      "outputs": [
        {
          "output_type": "execute_result",
          "data": {
            "text/html": [
              "<div>\n",
              "<style scoped>\n",
              "    .dataframe tbody tr th:only-of-type {\n",
              "        vertical-align: middle;\n",
              "    }\n",
              "\n",
              "    .dataframe tbody tr th {\n",
              "        vertical-align: top;\n",
              "    }\n",
              "\n",
              "    .dataframe thead th {\n",
              "        text-align: right;\n",
              "    }\n",
              "</style>\n",
              "<table border=\"1\" class=\"dataframe\">\n",
              "  <thead>\n",
              "    <tr style=\"text-align: right;\">\n",
              "      <th></th>\n",
              "      <th>titulo</th>\n",
              "      <th>generos</th>\n",
              "      <th>ano_de_lancamento</th>\n",
              "      <th>nota_media</th>\n",
              "    </tr>\n",
              "    <tr>\n",
              "      <th>filmeId</th>\n",
              "      <th></th>\n",
              "      <th></th>\n",
              "      <th></th>\n",
              "      <th></th>\n",
              "    </tr>\n",
              "  </thead>\n",
              "  <tbody>\n",
              "    <tr>\n",
              "      <th>1</th>\n",
              "      <td>Toy Story (1995)</td>\n",
              "      <td>Adventure|Animation|Children|Comedy|Fantasy</td>\n",
              "      <td>1995.0</td>\n",
              "      <td>3.920930</td>\n",
              "    </tr>\n",
              "    <tr>\n",
              "      <th>2</th>\n",
              "      <td>Jumanji (1995)</td>\n",
              "      <td>Adventure|Children|Fantasy</td>\n",
              "      <td>1995.0</td>\n",
              "      <td>3.431818</td>\n",
              "    </tr>\n",
              "    <tr>\n",
              "      <th>3</th>\n",
              "      <td>Grumpier Old Men (1995)</td>\n",
              "      <td>Comedy|Romance</td>\n",
              "      <td>1995.0</td>\n",
              "      <td>3.259615</td>\n",
              "    </tr>\n",
              "    <tr>\n",
              "      <th>4</th>\n",
              "      <td>Waiting to Exhale (1995)</td>\n",
              "      <td>Comedy|Drama|Romance</td>\n",
              "      <td>1995.0</td>\n",
              "      <td>2.357143</td>\n",
              "    </tr>\n",
              "    <tr>\n",
              "      <th>5</th>\n",
              "      <td>Father of the Bride Part II (1995)</td>\n",
              "      <td>Comedy</td>\n",
              "      <td>1995.0</td>\n",
              "      <td>3.071429</td>\n",
              "    </tr>\n",
              "  </tbody>\n",
              "</table>\n",
              "</div>"
            ],
            "text/plain": [
              "                                     titulo  ... nota_media\n",
              "filmeId                                      ...           \n",
              "1                          Toy Story (1995)  ...   3.920930\n",
              "2                            Jumanji (1995)  ...   3.431818\n",
              "3                   Grumpier Old Men (1995)  ...   3.259615\n",
              "4                  Waiting to Exhale (1995)  ...   2.357143\n",
              "5        Father of the Bride Part II (1995)  ...   3.071429\n",
              "\n",
              "[5 rows x 4 columns]"
            ]
          },
          "metadata": {
            "tags": []
          },
          "execution_count": 10
        }
      ]
    },
    {
      "cell_type": "markdown",
      "metadata": {
        "id": "ZCsGtrb-DtJP",
        "colab_type": "text"
      },
      "source": [
        "## Pergunta: remova os filmes com menos de 50 avaliações\n",
        "\n",
        "- conte o número de notas por filme\n",
        "- adicione uma coluna nova chamada `total_de_votos` a `filmes` que representa o número de avaliações que aquele filme teve no conjunto de dados\n",
        "- remova os que tem 49 ou menos de `filmes`"
      ]
    },
    {
      "cell_type": "markdown",
      "metadata": {
        "id": "s7WsuffKDtJQ",
        "colab_type": "text"
      },
      "source": [
        "## Solução"
      ]
    },
    {
      "cell_type": "code",
      "metadata": {
        "id": "bEwxNH7eDtJQ",
        "colab_type": "code",
        "outputId": "b15d59f4-d831-482d-ade1-23c864ee5032",
        "colab": {
          "base_uri": "https://localhost:8080/",
          "height": 136
        }
      },
      "source": [
        "# solução para calcular o total de votos por filme\n",
        "\n",
        "total_de_votos_por_filme = notas.groupby('filmeId').nota.count()\n",
        "total_de_votos_por_filme.head()"
      ],
      "execution_count": 11,
      "outputs": [
        {
          "output_type": "execute_result",
          "data": {
            "text/plain": [
              "filmeId\n",
              "1    215\n",
              "2    110\n",
              "3     52\n",
              "4      7\n",
              "5     49\n",
              "Name: nota, dtype: int64"
            ]
          },
          "metadata": {
            "tags": []
          },
          "execution_count": 11
        }
      ]
    },
    {
      "cell_type": "code",
      "metadata": {
        "id": "YPeu11AMDtJT",
        "colab_type": "code",
        "colab": {}
      },
      "source": [
        "# solução para criar a nova coluna e filtrar os filmes\n",
        "filmes['total_de_votos'] = total_de_votos_por_filme\n",
        "filmes = filmes.query('total_de_votos > 49')"
      ],
      "execution_count": 0,
      "outputs": []
    },
    {
      "cell_type": "code",
      "metadata": {
        "id": "XFOvCVEMDtJV",
        "colab_type": "code",
        "outputId": "e25c127d-ec55-42e6-8cd6-2b3ba023f903",
        "colab": {
          "base_uri": "https://localhost:8080/",
          "height": 235
        }
      },
      "source": [
        "filmes.head()"
      ],
      "execution_count": 13,
      "outputs": [
        {
          "output_type": "execute_result",
          "data": {
            "text/html": [
              "<div>\n",
              "<style scoped>\n",
              "    .dataframe tbody tr th:only-of-type {\n",
              "        vertical-align: middle;\n",
              "    }\n",
              "\n",
              "    .dataframe tbody tr th {\n",
              "        vertical-align: top;\n",
              "    }\n",
              "\n",
              "    .dataframe thead th {\n",
              "        text-align: right;\n",
              "    }\n",
              "</style>\n",
              "<table border=\"1\" class=\"dataframe\">\n",
              "  <thead>\n",
              "    <tr style=\"text-align: right;\">\n",
              "      <th></th>\n",
              "      <th>titulo</th>\n",
              "      <th>generos</th>\n",
              "      <th>ano_de_lancamento</th>\n",
              "      <th>nota_media</th>\n",
              "      <th>total_de_votos</th>\n",
              "    </tr>\n",
              "    <tr>\n",
              "      <th>filmeId</th>\n",
              "      <th></th>\n",
              "      <th></th>\n",
              "      <th></th>\n",
              "      <th></th>\n",
              "      <th></th>\n",
              "    </tr>\n",
              "  </thead>\n",
              "  <tbody>\n",
              "    <tr>\n",
              "      <th>1</th>\n",
              "      <td>Toy Story (1995)</td>\n",
              "      <td>Adventure|Animation|Children|Comedy|Fantasy</td>\n",
              "      <td>1995.0</td>\n",
              "      <td>3.920930</td>\n",
              "      <td>215.0</td>\n",
              "    </tr>\n",
              "    <tr>\n",
              "      <th>2</th>\n",
              "      <td>Jumanji (1995)</td>\n",
              "      <td>Adventure|Children|Fantasy</td>\n",
              "      <td>1995.0</td>\n",
              "      <td>3.431818</td>\n",
              "      <td>110.0</td>\n",
              "    </tr>\n",
              "    <tr>\n",
              "      <th>3</th>\n",
              "      <td>Grumpier Old Men (1995)</td>\n",
              "      <td>Comedy|Romance</td>\n",
              "      <td>1995.0</td>\n",
              "      <td>3.259615</td>\n",
              "      <td>52.0</td>\n",
              "    </tr>\n",
              "    <tr>\n",
              "      <th>6</th>\n",
              "      <td>Heat (1995)</td>\n",
              "      <td>Action|Crime|Thriller</td>\n",
              "      <td>1995.0</td>\n",
              "      <td>3.946078</td>\n",
              "      <td>102.0</td>\n",
              "    </tr>\n",
              "    <tr>\n",
              "      <th>7</th>\n",
              "      <td>Sabrina (1995)</td>\n",
              "      <td>Comedy|Romance</td>\n",
              "      <td>1995.0</td>\n",
              "      <td>3.185185</td>\n",
              "      <td>54.0</td>\n",
              "    </tr>\n",
              "  </tbody>\n",
              "</table>\n",
              "</div>"
            ],
            "text/plain": [
              "                          titulo  ... total_de_votos\n",
              "filmeId                           ...               \n",
              "1               Toy Story (1995)  ...          215.0\n",
              "2                 Jumanji (1995)  ...          110.0\n",
              "3        Grumpier Old Men (1995)  ...           52.0\n",
              "6                    Heat (1995)  ...          102.0\n",
              "7                 Sabrina (1995)  ...           54.0\n",
              "\n",
              "[5 rows x 5 columns]"
            ]
          },
          "metadata": {
            "tags": []
          },
          "execution_count": 13
        }
      ]
    },
    {
      "cell_type": "markdown",
      "metadata": {
        "id": "DP3bIJVXDtJY",
        "colab_type": "text"
      },
      "source": [
        "# Visualizando os dados gerais"
      ]
    },
    {
      "cell_type": "markdown",
      "metadata": {
        "id": "rzmQSmGKDtJY",
        "colab_type": "text"
      },
      "source": [
        "## Pergunta: Visualize as notas médias\n",
        "\n",
        "- histograma\n",
        "- cummulative distribution function\n",
        "\n",
        "Dicas:\n",
        "\n",
        "- lembre-se de colocar um título nas imagens além de nomes nos eixos x e y\n",
        "- para gerar a versão cumulativa lembre-se de usar os parâmetros `hist_kws` e `kde_kws` para definir `'cumulative'=True`"
      ]
    },
    {
      "cell_type": "code",
      "metadata": {
        "id": "a7H8PXYPDtJZ",
        "colab_type": "code",
        "outputId": "a9a8b728-24c1-4256-9861-4cd371b7b9a2",
        "colab": {
          "base_uri": "https://localhost:8080/",
          "height": 421
        }
      },
      "source": [
        "# solução histograma\n",
        "ax = sns.distplot(filmes.nota_media)\n",
        "ax.set_title('Distribuição das notas médias dos filmes com 50 ou mais votos')\n",
        "ax.set(xlabel = 'Nota Média', ylabel = 'Densidade')\n",
        "ax.figure.set_size_inches(12, 6)\n",
        "ax"
      ],
      "execution_count": 14,
      "outputs": [
        {
          "output_type": "execute_result",
          "data": {
            "text/plain": [
              "<matplotlib.axes._subplots.AxesSubplot at 0x7f3b6f1960f0>"
            ]
          },
          "metadata": {
            "tags": []
          },
          "execution_count": 14
        },
        {
          "output_type": "display_data",
          "data": {
            "image/png": "[encoded data removed]",
            "text/plain": [
              "<Figure size 864x432 with 1 Axes>"
            ]
          },
          "metadata": {
            "tags": [],
            "needs_background": "light"
          }
        }
      ]
    },
    {
      "cell_type": "code",
      "metadata": {
        "id": "1jkq8CVGDtJb",
        "colab_type": "code",
        "outputId": "026cb52d-3757-4bf8-eedc-548f2c596417",
        "colab": {
          "base_uri": "https://localhost:8080/",
          "height": 421
        }
      },
      "source": [
        "# solução cumulativa\n",
        "ax = sns.distplot(filmes.nota_media, hist_kws = {'cumulative' : True}, kde_kws = {'cumulative' : True})\n",
        "ax.set_title('Distribuição Cumulativa das notas médias dos filmes com 50 ou mais votos')\n",
        "ax.set(xlabel = 'Nota Média', ylabel = '% Acumulada de filmes')\n",
        "ax.figure.set_size_inches(12, 6)\n",
        "ax"
      ],
      "execution_count": 15,
      "outputs": [
        {
          "output_type": "execute_result",
          "data": {
            "text/plain": [
              "<matplotlib.axes._subplots.AxesSubplot at 0x7f3b6d9bc1d0>"
            ]
          },
          "metadata": {
            "tags": []
          },
          "execution_count": 15
        },
        {
          "output_type": "display_data",
          "data": {
            "image/png": "[encoded data removed]",
            "text/plain": [
              "<Figure size 864x432 with 1 Axes>"
            ]
          },
          "metadata": {
            "tags": [],
            "needs_background": "light"
          }
        }
      ]
    },
    {
      "cell_type": "markdown",
      "metadata": {
        "id": "3SkEepULDtJf",
        "colab_type": "text"
      },
      "source": [
        "## Pergunta: Visualize o total de votos\n",
        "\n",
        "- histograma\n",
        "- cummulative distribution function"
      ]
    },
    {
      "cell_type": "code",
      "metadata": {
        "id": "lgwRrAj-DtJg",
        "colab_type": "code",
        "outputId": "d11e0852-2111-44e8-c8a1-588692212bd2",
        "colab": {
          "base_uri": "https://localhost:8080/",
          "height": 421
        }
      },
      "source": [
        "# solução histograma\n",
        "ax = sns.distplot(filmes.total_de_votos)\n",
        "ax.set_title('Distribuição do total de votos dos filmes')\n",
        "ax.set(xlabel = 'Número de votos', ylabel = 'Densidade')\n",
        "ax.figure.set_size_inches(12, 6)\n",
        "ax"
      ],
      "execution_count": 16,
      "outputs": [
        {
          "output_type": "execute_result",
          "data": {
            "text/plain": [
              "<matplotlib.axes._subplots.AxesSubplot at 0x7f3b6d9e6f98>"
            ]
          },
          "metadata": {
            "tags": []
          },
          "execution_count": 16
        },
        {
          "output_type": "display_data",
          "data": {
            "image/png": "[encoded data removed]",
            "text/plain": [
              "<Figure size 864x432 with 1 Axes>"
            ]
          },
          "metadata": {
            "tags": [],
            "needs_background": "light"
          }
        }
      ]
    },
    {
      "cell_type": "code",
      "metadata": {
        "id": "8mZ21YKUDtJk",
        "colab_type": "code",
        "outputId": "8ffe75ec-7a14-494f-c3db-14486fb2bc36",
        "colab": {
          "base_uri": "https://localhost:8080/",
          "height": 421
        }
      },
      "source": [
        "# solução cumulativa\n",
        "ax = sns.distplot(filmes.total_de_votos, hist_kws = {'cumulative' : True}, kde_kws = {'cumulative' : True})\n",
        "ax.set_title('Distribuição Cumulativa do total de votos dos filmes')\n",
        "ax.set(xlabel = 'Número de votos', ylabel = '% Acumulada de filmes')\n",
        "ax.figure.set_size_inches(12, 6)\n",
        "ax"
      ],
      "execution_count": 17,
      "outputs": [
        {
          "output_type": "execute_result",
          "data": {
            "text/plain": [
              "<matplotlib.axes._subplots.AxesSubplot at 0x7f3b6d87cb38>"
            ]
          },
          "metadata": {
            "tags": []
          },
          "execution_count": 17
        },
        {
          "output_type": "display_data",
          "data": {
            "image/png": "[encoded data removed]",
            "text/plain": [
              "<Figure size 864x432 with 1 Axes>"
            ]
          },
          "metadata": {
            "tags": [],
            "needs_background": "light"
          }
        }
      ]
    },
    {
      "cell_type": "markdown",
      "metadata": {
        "id": "l2uIBFuNDtJm",
        "colab_type": "text"
      },
      "source": [
        "## Pergunta: 20% dos filmes do dataframe tem nota maior que? \n",
        "\n",
        "- lembre-se da função `quantile` do pandas"
      ]
    },
    {
      "cell_type": "code",
      "metadata": {
        "id": "Fja2mt6oDtJn",
        "colab_type": "code",
        "colab": {}
      },
      "source": [
        "# solução\n",
        "nota_limite_dos_20_porcento = filmes.nota_media.quantile(0.8)"
      ],
      "execution_count": 0,
      "outputs": []
    },
    {
      "cell_type": "code",
      "metadata": {
        "id": "7abYWr6VDtJp",
        "colab_type": "code",
        "outputId": "46107255-fb73-4dd1-b649-982cfc19e0e3",
        "colab": {
          "base_uri": "https://localhost:8080/",
          "height": 34
        }
      },
      "source": [
        "print(\"20 porcento dos filmes tem nota maior que de %.2f\" % nota_limite_dos_20_porcento)"
      ],
      "execution_count": 19,
      "outputs": [
        {
          "output_type": "stream",
          "text": [
            "20 porcento dos filmes tem nota maior que de 3.99\n"
          ],
          "name": "stdout"
        }
      ]
    },
    {
      "cell_type": "markdown",
      "metadata": {
        "id": "S1zLb5lqDtJr",
        "colab_type": "text"
      },
      "source": [
        "## Vamos separar a coluna `generos` em diversas colunas.\n",
        "\n",
        "- O código já está pronto."
      ]
    },
    {
      "cell_type": "code",
      "metadata": {
        "id": "07IUDIyJDtJs",
        "colab_type": "code",
        "outputId": "ab57a991-1f8d-4dc3-dd39-e474028652a1",
        "colab": {
          "base_uri": "https://localhost:8080/",
          "height": 34
        }
      },
      "source": [
        "filmes['generos'] = filmes['generos'].str.replace('-', '')\n",
        "generos = filmes['generos'].str.get_dummies()\n",
        "print(\"Temos %d generos distintos\" % generos.shape[1])"
      ],
      "execution_count": 20,
      "outputs": [
        {
          "output_type": "stream",
          "text": [
            "Temos 19 generos distintos\n"
          ],
          "name": "stdout"
        }
      ]
    },
    {
      "cell_type": "code",
      "metadata": {
        "id": "z8uhJKRbDtJu",
        "colab_type": "code",
        "outputId": "66162534-6e9a-476e-cecc-99d5aec2d4f2",
        "colab": {
          "base_uri": "https://localhost:8080/",
          "height": 357
        }
      },
      "source": [
        "filmes = filmes.join(generos).drop(columns=['generos'], axis=1)\n",
        "filmes.head()"
      ],
      "execution_count": 21,
      "outputs": [
        {
          "output_type": "execute_result",
          "data": {
            "text/html": [
              "<div>\n",
              "<style scoped>\n",
              "    .dataframe tbody tr th:only-of-type {\n",
              "        vertical-align: middle;\n",
              "    }\n",
              "\n",
              "    .dataframe tbody tr th {\n",
              "        vertical-align: top;\n",
              "    }\n",
              "\n",
              "    .dataframe thead th {\n",
              "        text-align: right;\n",
              "    }\n",
              "</style>\n",
              "<table border=\"1\" class=\"dataframe\">\n",
              "  <thead>\n",
              "    <tr style=\"text-align: right;\">\n",
              "      <th></th>\n",
              "      <th>titulo</th>\n",
              "      <th>ano_de_lancamento</th>\n",
              "      <th>nota_media</th>\n",
              "      <th>total_de_votos</th>\n",
              "      <th>Action</th>\n",
              "      <th>Adventure</th>\n",
              "      <th>Animation</th>\n",
              "      <th>Children</th>\n",
              "      <th>Comedy</th>\n",
              "      <th>Crime</th>\n",
              "      <th>Documentary</th>\n",
              "      <th>Drama</th>\n",
              "      <th>Fantasy</th>\n",
              "      <th>FilmNoir</th>\n",
              "      <th>Horror</th>\n",
              "      <th>IMAX</th>\n",
              "      <th>Musical</th>\n",
              "      <th>Mystery</th>\n",
              "      <th>Romance</th>\n",
              "      <th>SciFi</th>\n",
              "      <th>Thriller</th>\n",
              "      <th>War</th>\n",
              "      <th>Western</th>\n",
              "    </tr>\n",
              "    <tr>\n",
              "      <th>filmeId</th>\n",
              "      <th></th>\n",
              "      <th></th>\n",
              "      <th></th>\n",
              "      <th></th>\n",
              "      <th></th>\n",
              "      <th></th>\n",
              "      <th></th>\n",
              "      <th></th>\n",
              "      <th></th>\n",
              "      <th></th>\n",
              "      <th></th>\n",
              "      <th></th>\n",
              "      <th></th>\n",
              "      <th></th>\n",
              "      <th></th>\n",
              "      <th></th>\n",
              "      <th></th>\n",
              "      <th></th>\n",
              "      <th></th>\n",
              "      <th></th>\n",
              "      <th></th>\n",
              "      <th></th>\n",
              "      <th></th>\n",
              "    </tr>\n",
              "  </thead>\n",
              "  <tbody>\n",
              "    <tr>\n",
              "      <th>1</th>\n",
              "      <td>Toy Story (1995)</td>\n",
              "      <td>1995.0</td>\n",
              "      <td>3.920930</td>\n",
              "      <td>215.0</td>\n",
              "      <td>0</td>\n",
              "      <td>1</td>\n",
              "      <td>1</td>\n",
              "      <td>1</td>\n",
              "      <td>1</td>\n",
              "      <td>0</td>\n",
              "      <td>0</td>\n",
              "      <td>0</td>\n",
              "      <td>1</td>\n",
              "      <td>0</td>\n",
              "      <td>0</td>\n",
              "      <td>0</td>\n",
              "      <td>0</td>\n",
              "      <td>0</td>\n",
              "      <td>0</td>\n",
              "      <td>0</td>\n",
              "      <td>0</td>\n",
              "      <td>0</td>\n",
              "      <td>0</td>\n",
              "    </tr>\n",
              "    <tr>\n",
              "      <th>2</th>\n",
              "      <td>Jumanji (1995)</td>\n",
              "      <td>1995.0</td>\n",
              "      <td>3.431818</td>\n",
              "      <td>110.0</td>\n",
              "      <td>0</td>\n",
              "      <td>1</td>\n",
              "      <td>0</td>\n",
              "      <td>1</td>\n",
              "      <td>0</td>\n",
              "      <td>0</td>\n",
              "      <td>0</td>\n",
              "      <td>0</td>\n",
              "      <td>1</td>\n",
              "      <td>0</td>\n",
              "      <td>0</td>\n",
              "      <td>0</td>\n",
              "      <td>0</td>\n",
              "      <td>0</td>\n",
              "      <td>0</td>\n",
              "      <td>0</td>\n",
              "      <td>0</td>\n",
              "      <td>0</td>\n",
              "      <td>0</td>\n",
              "    </tr>\n",
              "    <tr>\n",
              "      <th>3</th>\n",
              "      <td>Grumpier Old Men (1995)</td>\n",
              "      <td>1995.0</td>\n",
              "      <td>3.259615</td>\n",
              "      <td>52.0</td>\n",
              "      <td>0</td>\n",
              "      <td>0</td>\n",
              "      <td>0</td>\n",
              "      <td>0</td>\n",
              "      <td>1</td>\n",
              "      <td>0</td>\n",
              "      <td>0</td>\n",
              "      <td>0</td>\n",
              "      <td>0</td>\n",
              "      <td>0</td>\n",
              "      <td>0</td>\n",
              "      <td>0</td>\n",
              "      <td>0</td>\n",
              "      <td>0</td>\n",
              "      <td>1</td>\n",
              "      <td>0</td>\n",
              "      <td>0</td>\n",
              "      <td>0</td>\n",
              "      <td>0</td>\n",
              "    </tr>\n",
              "    <tr>\n",
              "      <th>6</th>\n",
              "      <td>Heat (1995)</td>\n",
              "      <td>1995.0</td>\n",
              "      <td>3.946078</td>\n",
              "      <td>102.0</td>\n",
              "      <td>1</td>\n",
              "      <td>0</td>\n",
              "      <td>0</td>\n",
              "      <td>0</td>\n",
              "      <td>0</td>\n",
              "      <td>1</td>\n",
              "      <td>0</td>\n",
              "      <td>0</td>\n",
              "      <td>0</td>\n",
              "      <td>0</td>\n",
              "      <td>0</td>\n",
              "      <td>0</td>\n",
              "      <td>0</td>\n",
              "      <td>0</td>\n",
              "      <td>0</td>\n",
              "      <td>0</td>\n",
              "      <td>1</td>\n",
              "      <td>0</td>\n",
              "      <td>0</td>\n",
              "    </tr>\n",
              "    <tr>\n",
              "      <th>7</th>\n",
              "      <td>Sabrina (1995)</td>\n",
              "      <td>1995.0</td>\n",
              "      <td>3.185185</td>\n",
              "      <td>54.0</td>\n",
              "      <td>0</td>\n",
              "      <td>0</td>\n",
              "      <td>0</td>\n",
              "      <td>0</td>\n",
              "      <td>1</td>\n",
              "      <td>0</td>\n",
              "      <td>0</td>\n",
              "      <td>0</td>\n",
              "      <td>0</td>\n",
              "      <td>0</td>\n",
              "      <td>0</td>\n",
              "      <td>0</td>\n",
              "      <td>0</td>\n",
              "      <td>0</td>\n",
              "      <td>1</td>\n",
              "      <td>0</td>\n",
              "      <td>0</td>\n",
              "      <td>0</td>\n",
              "      <td>0</td>\n",
              "    </tr>\n",
              "  </tbody>\n",
              "</table>\n",
              "</div>"
            ],
            "text/plain": [
              "                          titulo  ano_de_lancamento  ...  War  Western\n",
              "filmeId                                              ...              \n",
              "1               Toy Story (1995)             1995.0  ...    0        0\n",
              "2                 Jumanji (1995)             1995.0  ...    0        0\n",
              "3        Grumpier Old Men (1995)             1995.0  ...    0        0\n",
              "6                    Heat (1995)             1995.0  ...    0        0\n",
              "7                 Sabrina (1995)             1995.0  ...    0        0\n",
              "\n",
              "[5 rows x 23 columns]"
            ]
          },
          "metadata": {
            "tags": []
          },
          "execution_count": 21
        }
      ]
    },
    {
      "cell_type": "markdown",
      "metadata": {
        "id": "DLj_HM06DtJy",
        "colab_type": "text"
      },
      "source": [
        "## Pergunta: visualização de quantos filmes existem por genero\n",
        "\n",
        "- Para cada um dos generos você deve agrupar o número de filmes\n",
        "- Ordene as barras, na esquerda o genero com mais filmes, na direita o que tem menos filmes\n",
        "\n",
        "Dica:\n",
        "\n",
        "- Para fazer a soma de uma ou mais colunas individualmente você pode usar `seu_dataframe.sum()`\n",
        "- Não precisa usar o dataframe `filmes`, somente o dataframe `generos`\n",
        "- Em certas situações é mais fácil usar as funções de plotagem do pandas ao invés do seaborn"
      ]
    },
    {
      "cell_type": "code",
      "metadata": {
        "id": "k0p-jszLDtJz",
        "colab_type": "code",
        "outputId": "a03bed02-5cf4-4eb8-f43b-946f51fcbaae",
        "colab": {
          "base_uri": "https://localhost:8080/",
          "height": 465
        }
      },
      "source": [
        "# solução\n",
        "numero_de_filmes_por_genero = generos.sum()\n",
        "numero_de_filmes_por_genero.sort_values(ascending=False).plot.bar(title = 'Quantidade de Filmes por Gênero', figsize=(12,6))"
      ],
      "execution_count": 22,
      "outputs": [
        {
          "output_type": "execute_result",
          "data": {
            "text/plain": [
              "<matplotlib.axes._subplots.AxesSubplot at 0x7f3b6d77dac8>"
            ]
          },
          "metadata": {
            "tags": []
          },
          "execution_count": 22
        },
        {
          "output_type": "display_data",
          "data": {
            "image/png": "[encoded data removed]",
            "text/plain": [
              "<Figure size 864x432 with 1 Axes>"
            ]
          },
          "metadata": {
            "tags": [],
            "needs_background": "light"
          }
        }
      ]
    },
    {
      "cell_type": "markdown",
      "metadata": {
        "id": "PaO1r4ltDtJ4",
        "colab_type": "text"
      },
      "source": [
        "## Pergunta: Quais são os 5 generos com mais filmes?\n",
        "\n",
        "Dica:\n",
        "\n",
        "- `sort_values()` pode ordenar uma Series do pandas"
      ]
    },
    {
      "cell_type": "code",
      "metadata": {
        "id": "agV9uDzTDtJ4",
        "colab_type": "code",
        "colab": {}
      },
      "source": [
        "# solução\n",
        "top5_generos_em_quantidade_de_filmes = numero_de_filmes_por_genero.sort_values(ascending = False).head()"
      ],
      "execution_count": 0,
      "outputs": []
    },
    {
      "cell_type": "code",
      "metadata": {
        "id": "K7d_h-U1DtJ7",
        "colab_type": "code",
        "outputId": "45785d32-afe1-4954-afd2-bb0b06eba9a5",
        "colab": {
          "base_uri": "https://localhost:8080/",
          "height": 119
        }
      },
      "source": [
        "print(top5_generos_em_quantidade_de_filmes)"
      ],
      "execution_count": 24,
      "outputs": [
        {
          "output_type": "stream",
          "text": [
            "Comedy       181\n",
            "Drama        166\n",
            "Action       164\n",
            "Adventure    132\n",
            "Thriller     121\n",
            "dtype: int64\n"
          ],
          "name": "stdout"
        }
      ]
    },
    {
      "cell_type": "markdown",
      "metadata": {
        "id": "eOue41k6DtJ9",
        "colab_type": "text"
      },
      "source": [
        "## Pergunta: visualização de votos por genero\n",
        "\n",
        "- o código que gera os votos por genero já está pronto\n",
        "- ordene as categorias da mais visualizada para a menos visualizada\n",
        "- gere a visualização por genero"
      ]
    },
    {
      "cell_type": "code",
      "metadata": {
        "id": "oQ-40l42DtJ9",
        "colab_type": "code",
        "outputId": "4aa0a003-7b65-44b2-88af-bf23c85e0adb",
        "colab": {
          "base_uri": "https://localhost:8080/",
          "height": 224
        }
      },
      "source": [
        "votos_por_genero_por_filme = pd.DataFrame((generos.values.T * filmes['total_de_votos'].values).T, columns = generos.columns)\n",
        "votos_por_genero_por_filme.head()"
      ],
      "execution_count": 25,
      "outputs": [
        {
          "output_type": "execute_result",
          "data": {
            "text/html": [
              "<div>\n",
              "<style scoped>\n",
              "    .dataframe tbody tr th:only-of-type {\n",
              "        vertical-align: middle;\n",
              "    }\n",
              "\n",
              "    .dataframe tbody tr th {\n",
              "        vertical-align: top;\n",
              "    }\n",
              "\n",
              "    .dataframe thead th {\n",
              "        text-align: right;\n",
              "    }\n",
              "</style>\n",
              "<table border=\"1\" class=\"dataframe\">\n",
              "  <thead>\n",
              "    <tr style=\"text-align: right;\">\n",
              "      <th></th>\n",
              "      <th>Action</th>\n",
              "      <th>Adventure</th>\n",
              "      <th>Animation</th>\n",
              "      <th>Children</th>\n",
              "      <th>Comedy</th>\n",
              "      <th>Crime</th>\n",
              "      <th>Documentary</th>\n",
              "      <th>Drama</th>\n",
              "      <th>Fantasy</th>\n",
              "      <th>FilmNoir</th>\n",
              "      <th>Horror</th>\n",
              "      <th>IMAX</th>\n",
              "      <th>Musical</th>\n",
              "      <th>Mystery</th>\n",
              "      <th>Romance</th>\n",
              "      <th>SciFi</th>\n",
              "      <th>Thriller</th>\n",
              "      <th>War</th>\n",
              "      <th>Western</th>\n",
              "    </tr>\n",
              "  </thead>\n",
              "  <tbody>\n",
              "    <tr>\n",
              "      <th>0</th>\n",
              "      <td>0.0</td>\n",
              "      <td>215.0</td>\n",
              "      <td>215.0</td>\n",
              "      <td>215.0</td>\n",
              "      <td>215.0</td>\n",
              "      <td>0.0</td>\n",
              "      <td>0.0</td>\n",
              "      <td>0.0</td>\n",
              "      <td>215.0</td>\n",
              "      <td>0.0</td>\n",
              "      <td>0.0</td>\n",
              "      <td>0.0</td>\n",
              "      <td>0.0</td>\n",
              "      <td>0.0</td>\n",
              "      <td>0.0</td>\n",
              "      <td>0.0</td>\n",
              "      <td>0.0</td>\n",
              "      <td>0.0</td>\n",
              "      <td>0.0</td>\n",
              "    </tr>\n",
              "    <tr>\n",
              "      <th>1</th>\n",
              "      <td>0.0</td>\n",
              "      <td>110.0</td>\n",
              "      <td>0.0</td>\n",
              "      <td>110.0</td>\n",
              "      <td>0.0</td>\n",
              "      <td>0.0</td>\n",
              "      <td>0.0</td>\n",
              "      <td>0.0</td>\n",
              "      <td>110.0</td>\n",
              "      <td>0.0</td>\n",
              "      <td>0.0</td>\n",
              "      <td>0.0</td>\n",
              "      <td>0.0</td>\n",
              "      <td>0.0</td>\n",
              "      <td>0.0</td>\n",
              "      <td>0.0</td>\n",
              "      <td>0.0</td>\n",
              "      <td>0.0</td>\n",
              "      <td>0.0</td>\n",
              "    </tr>\n",
              "    <tr>\n",
              "      <th>2</th>\n",
              "      <td>0.0</td>\n",
              "      <td>0.0</td>\n",
              "      <td>0.0</td>\n",
              "      <td>0.0</td>\n",
              "      <td>52.0</td>\n",
              "      <td>0.0</td>\n",
              "      <td>0.0</td>\n",
              "      <td>0.0</td>\n",
              "      <td>0.0</td>\n",
              "      <td>0.0</td>\n",
              "      <td>0.0</td>\n",
              "      <td>0.0</td>\n",
              "      <td>0.0</td>\n",
              "      <td>0.0</td>\n",
              "      <td>52.0</td>\n",
              "      <td>0.0</td>\n",
              "      <td>0.0</td>\n",
              "      <td>0.0</td>\n",
              "      <td>0.0</td>\n",
              "    </tr>\n",
              "    <tr>\n",
              "      <th>3</th>\n",
              "      <td>102.0</td>\n",
              "      <td>0.0</td>\n",
              "      <td>0.0</td>\n",
              "      <td>0.0</td>\n",
              "      <td>0.0</td>\n",
              "      <td>102.0</td>\n",
              "      <td>0.0</td>\n",
              "      <td>0.0</td>\n",
              "      <td>0.0</td>\n",
              "      <td>0.0</td>\n",
              "      <td>0.0</td>\n",
              "      <td>0.0</td>\n",
              "      <td>0.0</td>\n",
              "      <td>0.0</td>\n",
              "      <td>0.0</td>\n",
              "      <td>0.0</td>\n",
              "      <td>102.0</td>\n",
              "      <td>0.0</td>\n",
              "      <td>0.0</td>\n",
              "    </tr>\n",
              "    <tr>\n",
              "      <th>4</th>\n",
              "      <td>0.0</td>\n",
              "      <td>0.0</td>\n",
              "      <td>0.0</td>\n",
              "      <td>0.0</td>\n",
              "      <td>54.0</td>\n",
              "      <td>0.0</td>\n",
              "      <td>0.0</td>\n",
              "      <td>0.0</td>\n",
              "      <td>0.0</td>\n",
              "      <td>0.0</td>\n",
              "      <td>0.0</td>\n",
              "      <td>0.0</td>\n",
              "      <td>0.0</td>\n",
              "      <td>0.0</td>\n",
              "      <td>54.0</td>\n",
              "      <td>0.0</td>\n",
              "      <td>0.0</td>\n",
              "      <td>0.0</td>\n",
              "      <td>0.0</td>\n",
              "    </tr>\n",
              "  </tbody>\n",
              "</table>\n",
              "</div>"
            ],
            "text/plain": [
              "   Action  Adventure  Animation  Children  ...  SciFi  Thriller  War  Western\n",
              "0     0.0      215.0      215.0     215.0  ...    0.0       0.0  0.0      0.0\n",
              "1     0.0      110.0        0.0     110.0  ...    0.0       0.0  0.0      0.0\n",
              "2     0.0        0.0        0.0       0.0  ...    0.0       0.0  0.0      0.0\n",
              "3   102.0        0.0        0.0       0.0  ...    0.0     102.0  0.0      0.0\n",
              "4     0.0        0.0        0.0       0.0  ...    0.0       0.0  0.0      0.0\n",
              "\n",
              "[5 rows x 19 columns]"
            ]
          },
          "metadata": {
            "tags": []
          },
          "execution_count": 25
        }
      ]
    },
    {
      "cell_type": "code",
      "metadata": {
        "id": "z_9IN3VsDtKA",
        "colab_type": "code",
        "outputId": "2c66114b-dfc8-42e9-d0da-f7534d5a30e1",
        "colab": {
          "base_uri": "https://localhost:8080/",
          "height": 357
        }
      },
      "source": [
        "# solucão\n",
        "\n",
        "votos_por_genero_por_filme1 = votos_por_genero_por_filme.sum().sort_values(ascending=False)\n",
        "votos_por_genero_por_filme1"
      ],
      "execution_count": 26,
      "outputs": [
        {
          "output_type": "execute_result",
          "data": {
            "text/plain": [
              "Action         15734.0\n",
              "Drama          15445.0\n",
              "Comedy         15330.0\n",
              "Adventure      13117.0\n",
              "Thriller       11907.0\n",
              "SciFi           8989.0\n",
              "Crime           8649.0\n",
              "Romance         7444.0\n",
              "Fantasy         5993.0\n",
              "Children        4331.0\n",
              "Mystery         3452.0\n",
              "Animation       3066.0\n",
              "IMAX            2492.0\n",
              "Horror          2215.0\n",
              "War             2113.0\n",
              "Musical         1822.0\n",
              "Western          900.0\n",
              "FilmNoir         291.0\n",
              "Documentary      108.0\n",
              "dtype: float64"
            ]
          },
          "metadata": {
            "tags": []
          },
          "execution_count": 26
        }
      ]
    },
    {
      "cell_type": "code",
      "metadata": {
        "id": "0YnqGgeQDtKD",
        "colab_type": "code",
        "outputId": "37276d37-5f81-47bc-96b1-6481fe3960bc",
        "colab": {
          "base_uri": "https://localhost:8080/",
          "height": 465
        }
      },
      "source": [
        "# solução\n",
        "\n",
        "votos_por_genero_por_filme1.sort_values(ascending=False).plot.bar(title = 'Votos por Gênero de Filme', figsize=(12,6))"
      ],
      "execution_count": 27,
      "outputs": [
        {
          "output_type": "execute_result",
          "data": {
            "text/plain": [
              "<matplotlib.axes._subplots.AxesSubplot at 0x7f3b6d6fada0>"
            ]
          },
          "metadata": {
            "tags": []
          },
          "execution_count": 27
        },
        {
          "output_type": "display_data",
          "data": {
            "image/png": "[encoded data removed]",
            "text/plain": [
              "<Figure size 864x432 with 1 Axes>"
            ]
          },
          "metadata": {
            "tags": [],
            "needs_background": "light"
          }
        }
      ]
    },
    {
      "cell_type": "markdown",
      "metadata": {
        "id": "VFIqMkWyDtKF",
        "colab_type": "text"
      },
      "source": [
        "## Pergunta : votos por filme por genero\n",
        "\n",
        "Queremos entender a quantidade de votos em relação a quantidade de filmes existentes naquele genero.\n",
        "\n",
        "Por exemplo: \n",
        "- se temos 1000 votos de `Ação` e 10 filmes desse genero, foram 100 votos por filme nesse genero.\n",
        "- se o gênero `Documentário` tem 2 filmes e 500 votos, ele tem 250 votos por filme nesse gênero.\n",
        "\n",
        "Queremos entender isso, a \"popularidade\" média de um filme em cada categoria, isto é, o número de votos dividido pelo número de filmes, organizado para cada categoria.\n",
        "\n",
        "- Você já possui o número de votos por genero\n",
        "- Calcule o número de votos por genero dividido pelo total de filmes por genero\n",
        "- Ordene do maior para o menor\n",
        "- Plote um gráfico para visualizarmos esses dados"
      ]
    },
    {
      "cell_type": "code",
      "metadata": {
        "id": "RU21W91VDtKF",
        "colab_type": "code",
        "outputId": "1d4001b9-1ffd-4f5a-f382-b1e09d47fce2",
        "colab": {
          "base_uri": "https://localhost:8080/",
          "height": 357
        }
      },
      "source": [
        "# solucao código\n",
        "\n",
        "popularidade_media_por_genero = (votos_por_genero_por_filme1 / numero_de_filmes_por_genero).sort_values(ascending=False)\n",
        "popularidade_media_por_genero"
      ],
      "execution_count": 28,
      "outputs": [
        {
          "output_type": "execute_result",
          "data": {
            "text/plain": [
              "War            111.210526\n",
              "Crime           99.413793\n",
              "Adventure       99.371212\n",
              "Thriller        98.404959\n",
              "SciFi           97.706522\n",
              "Action          95.939024\n",
              "Animation       95.812500\n",
              "Drama           93.042169\n",
              "Children        92.148936\n",
              "Mystery         90.842105\n",
              "Fantasy         90.803030\n",
              "IMAX            89.000000\n",
              "Romance         87.576471\n",
              "Musical         86.761905\n",
              "Horror          85.192308\n",
              "Comedy          84.696133\n",
              "Western         75.000000\n",
              "FilmNoir        72.750000\n",
              "Documentary     54.000000\n",
              "dtype: float64"
            ]
          },
          "metadata": {
            "tags": []
          },
          "execution_count": 28
        }
      ]
    },
    {
      "cell_type": "code",
      "metadata": {
        "id": "Rn0IlKikDtKH",
        "colab_type": "code",
        "outputId": "50b99169-3108-450f-9e6a-57bdbcf42787",
        "colab": {
          "base_uri": "https://localhost:8080/",
          "height": 465
        }
      },
      "source": [
        "# solução com visualização \n",
        "popularidade_media_por_genero.plot.bar(title = 'Popularidade Média por Gênero de Filme', figsize=(12,6))"
      ],
      "execution_count": 29,
      "outputs": [
        {
          "output_type": "execute_result",
          "data": {
            "text/plain": [
              "<matplotlib.axes._subplots.AxesSubplot at 0x7f3b6d678748>"
            ]
          },
          "metadata": {
            "tags": []
          },
          "execution_count": 29
        },
        {
          "output_type": "display_data",
          "data": {
            "image/png": "[encoded data removed]",
            "text/plain": [
              "<Figure size 864x432 with 1 Axes>"
            ]
          },
          "metadata": {
            "tags": [],
            "needs_background": "light"
          }
        }
      ]
    },
    {
      "cell_type": "markdown",
      "metadata": {
        "id": "xffaJzo-DtKL",
        "colab_type": "text"
      },
      "source": [
        "## Pergunta: Olhando as 3 últimas visualizações o que você conclui sobre os generos `Action` e `War`?"
      ]
    },
    {
      "cell_type": "markdown",
      "metadata": {
        "id": "L8hD9qIGDtKL",
        "colab_type": "text"
      },
      "source": [
        "### Solução (texto livre): O gênero War, apesar de ter uma baixa quantidade de filmes é o gênero mais popular. Podemos pensar que o público desse gênero é mais fiel. Já o gênero Action, possui a terceira maior quantidade de filmes e a maior quantidade de votos por filme, porém não é um gênero no qual as pessoas votam muito, tendo a sua popularidade diminuida, se tornando o 6º gênero mais popular.\n",
        "    "
      ]
    },
    {
      "cell_type": "markdown",
      "metadata": {
        "id": "J3UYFbNLDtKM",
        "colab_type": "text"
      },
      "source": [
        "## Pergunta: Crie 2 boxplots no mesmo plot comparando a coluna `total_de_votos` dos filmes de categoria `Horror` e `Adventure`  \n",
        "\n",
        "Dica:\n",
        "\n",
        "- as vezes é mais fácil usar o boxplot do matplotlib ao invés do seaborn\n",
        "- plt.boxplot suporta o parâmetro labels com uma lista de nomes para cada boxplot plotado"
      ]
    },
    {
      "cell_type": "code",
      "metadata": {
        "id": "0L0tbeYnDtKM",
        "colab_type": "code",
        "outputId": "e1a3c78c-b712-4451-eec3-39ac8ce8e62f",
        "colab": {
          "base_uri": "https://localhost:8080/",
          "height": 390
        }
      },
      "source": [
        "# solução:\n",
        "\n",
        "import matplotlib.pyplot as plt\n",
        "\n",
        "notas_horror = votos_por_genero_por_filme.query('Horror !=0').Horror\n",
        "notas_adventure = votos_por_genero_por_filme.query('Adventure !=0').Adventure\n",
        "\n",
        "fig, ax = plt.subplots()\n",
        "ax.set_title('Comparação entre total de votos dos generos de Horror e Adventure')\n",
        "ax.figure.set_size_inches(12,6) \n",
        "ax.boxplot([notas_horror, notas_adventure], labels = ['Horror', 'Adventure'])\n",
        "\n",
        "plt.show()"
      ],
      "execution_count": 30,
      "outputs": [
        {
          "output_type": "display_data",
          "data": {
            "image/png": "[encoded data removed]",
            "text/plain": [
              "<Figure size 864x432 with 1 Axes>"
            ]
          },
          "metadata": {
            "tags": [],
            "needs_background": "light"
          }
        }
      ]
    },
    {
      "cell_type": "markdown",
      "metadata": {
        "id": "joge2PsEDtKP",
        "colab_type": "text"
      },
      "source": [
        "## Pergunta: mostre agora um boxplot para cada uma das categorias\n",
        "\n",
        "Dica:\n",
        "- use generos.columns para acessar todos os gêneros\n",
        "- já removemos os hífens dos nomes das colunas quando criamos as colunas de gêneros\n",
        "- plt (pyplot) do matplotlib suporta a função xticks(rotation=90) para rotacionar os labels"
      ]
    },
    {
      "cell_type": "code",
      "metadata": {
        "id": "7GvMasXMo1bn",
        "colab_type": "code",
        "outputId": "bc018017-aec1-48d4-8109-f339fc65f7d2",
        "colab": {
          "base_uri": "https://localhost:8080/",
          "height": 448
        }
      },
      "source": [
        "lista_votos_por_genero = []\n",
        "\n",
        "for genero in generos.columns:\n",
        "    # Aqui como o query recebe uma string podemos manipular o seu valor\n",
        "    votos = filmes.query(f'{genero} == 1')['total_de_votos']\n",
        "    lista_votos_por_genero.append(votos)\n",
        "\n",
        "fig, ax = plt.subplots()\n",
        "ax.figure.set_size_inches(12,6)\n",
        "ax.set_title('Boxplot do total de voto por gênero')\n",
        "ax = plt.boxplot(lista_votos_por_genero, labels=generos.columns)\n",
        "plt.xticks(rotation=90)\n",
        "plt.show()"
      ],
      "execution_count": 31,
      "outputs": [
        {
          "output_type": "display_data",
          "data": {
            "image/png": "[encoded data removed]",
            "text/plain": [
              "<Figure size 864x432 with 1 Axes>"
            ]
          },
          "metadata": {
            "tags": [],
            "needs_background": "light"
          }
        }
      ]
    },
    {
      "cell_type": "markdown",
      "metadata": {
        "id": "SmPqAzMoDtKT",
        "colab_type": "text"
      },
      "source": [
        "## Pergunta: desejo criar um filme com somente um dos gêneros: `Horror` ou `Adventure`. Quero ter uma chance maior de ter um faturamento que pague minhas contas, mesmo que não seja um super sucesso absurdo de vendas. Qual dos 2 gêneros você sugere?"
      ]
    },
    {
      "cell_type": "markdown",
      "metadata": {
        "id": "Qn0JJQEFDtKU",
        "colab_type": "text"
      },
      "source": [
        "### Solução: Adventure, pois apesar de ter uma maior variação, ele possui uma maior mediana em comparação ao genero Horror, e também possui maior popularidade.\n",
        "    \n"
      ]
    },
    {
      "cell_type": "markdown",
      "metadata": {
        "id": "BINFFR8HDtKU",
        "colab_type": "text"
      },
      "source": [
        "## Pergunta: nossa análise foi até então visual. Aplique um teste estatístico para verificar se existe significância estatística na distribuição dos votos dos filmes de `Adventure` e `Horror`. Sua recomendação continua a mesma? Explique.\n",
        "\n",
        "Passos:\n",
        "\n",
        "- visualize a distribuição de ambas através de histogramas\n",
        "- se suspeitar normalidade na distribuição, faça um teste de normalidade para ambas\n",
        "- aplique um teste adequado de comparação das distribuições\n",
        "- explique o resultado encontrado\n",
        "- utilize p=0.05"
      ]
    },
    {
      "cell_type": "code",
      "metadata": {
        "id": "Wo_ykdv5DtKV",
        "colab_type": "code",
        "outputId": "189f1c1c-da14-4e9c-d0bd-10f1db47b5a4",
        "colab": {
          "base_uri": "https://localhost:8080/",
          "height": 421
        }
      },
      "source": [
        "# solucao histograma de aventura\n",
        "ax = sns.distplot(notas_adventure)\n",
        "ax.figure.set_size_inches(12,6)\n",
        "ax.set_title('Histograma Aventura')\n",
        "ax"
      ],
      "execution_count": 32,
      "outputs": [
        {
          "output_type": "execute_result",
          "data": {
            "text/plain": [
              "<matplotlib.axes._subplots.AxesSubplot at 0x7f3b6d4bcf98>"
            ]
          },
          "metadata": {
            "tags": []
          },
          "execution_count": 32
        },
        {
          "output_type": "display_data",
          "data": {
            "image/png": "[encoded data removed]",
            "text/plain": [
              "<Figure size 864x432 with 1 Axes>"
            ]
          },
          "metadata": {
            "tags": [],
            "needs_background": "light"
          }
        }
      ]
    },
    {
      "cell_type": "code",
      "metadata": {
        "id": "ytpiSORCDtKZ",
        "colab_type": "code",
        "outputId": "ba7b6a6f-c9a1-4acc-e2b6-57e14839177d",
        "colab": {
          "base_uri": "https://localhost:8080/",
          "height": 421
        }
      },
      "source": [
        "# solucao histograma de horror\n",
        "ax = sns.distplot(notas_horror)\n",
        "ax.figure.set_size_inches(12,6)\n",
        "ax.set_title('Histograma Horror')\n",
        "ax"
      ],
      "execution_count": 33,
      "outputs": [
        {
          "output_type": "execute_result",
          "data": {
            "text/plain": [
              "<matplotlib.axes._subplots.AxesSubplot at 0x7f3b6d32c710>"
            ]
          },
          "metadata": {
            "tags": []
          },
          "execution_count": 33
        },
        {
          "output_type": "display_data",
          "data": {
            "image/png": "[encoded data removed]",
            "text/plain": [
              "<Figure size 864x432 with 1 Axes>"
            ]
          },
          "metadata": {
            "tags": [],
            "needs_background": "light"
          }
        }
      ]
    },
    {
      "cell_type": "code",
      "metadata": {
        "id": "bj-538jTDtKc",
        "colab_type": "code",
        "outputId": "0b8d3ef1-8820-4e2c-d75b-1db8e61e1ba9",
        "colab": {
          "base_uri": "https://localhost:8080/",
          "height": 34
        }
      },
      "source": [
        "# solucao teste de normalidade ou justificativa para nao utiliza-lo\n",
        "\n",
        "from scipy.stats import normaltest\n",
        "\n",
        "_, p = normaltest(notas_horror)\n",
        "p"
      ],
      "execution_count": 34,
      "outputs": [
        {
          "output_type": "execute_result",
          "data": {
            "text/plain": [
              "1.2786148884334685e-07"
            ]
          },
          "metadata": {
            "tags": []
          },
          "execution_count": 34
        }
      ]
    },
    {
      "cell_type": "code",
      "metadata": {
        "id": "-09D1Xi7DtKf",
        "colab_type": "code",
        "outputId": "5c675538-ee51-4305-ad44-3eabee94d54a",
        "colab": {
          "base_uri": "https://localhost:8080/",
          "height": 34
        }
      },
      "source": [
        "# solução com o teste desejado\n",
        "\n",
        "from scipy.stats import ranksums\n",
        "\n",
        "_, p = ranksums(notas_horror, notas_adventure)\n",
        "p"
      ],
      "execution_count": 35,
      "outputs": [
        {
          "output_type": "execute_result",
          "data": {
            "text/plain": [
              "0.04782366231999856"
            ]
          },
          "metadata": {
            "tags": []
          },
          "execution_count": 35
        }
      ]
    },
    {
      "cell_type": "markdown",
      "metadata": {
        "id": "Jws05Ry4DtKj",
        "colab_type": "text"
      },
      "source": [
        "### Solução (explique sua conclusão):\n",
        "\n"
      ]
    },
    {
      "cell_type": "markdown",
      "metadata": {
        "id": "Zgeg1R7JDtKk",
        "colab_type": "text"
      },
      "source": [
        "## Pergunta: Faça os mesmos boxplots para as notas médias (`nota_media`) dos gêneros `Adventure` e `Horror`."
      ]
    },
    {
      "cell_type": "code",
      "metadata": {
        "id": "u2yagXK9DtKk",
        "colab_type": "code",
        "colab": {}
      },
      "source": [
        "# solução:\n",
        "nota_media_adventure = filmes.query('Adventure == 1')['nota_media']\n",
        "nota_media_horror = filmes.query('Horror == 1')['nota_media']"
      ],
      "execution_count": 0,
      "outputs": []
    },
    {
      "cell_type": "code",
      "metadata": {
        "id": "T50oDOpLDtKo",
        "colab_type": "code",
        "outputId": "93f45a28-cce8-4f1f-dd10-69c9cfeffdfe",
        "colab": {
          "base_uri": "https://localhost:8080/",
          "height": 407
        }
      },
      "source": [
        "fig, ax = plt.subplots()\n",
        "ax.set_title('Comparação nota média dos generos de Horror e Adventure')\n",
        "ax.figure.set_size_inches(12,6) \n",
        "ax.boxplot([nota_media_adventure, nota_media_horror], labels = ['Adventure', 'Horror'])\n",
        "ax"
      ],
      "execution_count": 37,
      "outputs": [
        {
          "output_type": "execute_result",
          "data": {
            "text/plain": [
              "<matplotlib.axes._subplots.AxesSubplot at 0x7f3b6d2b1d68>"
            ]
          },
          "metadata": {
            "tags": []
          },
          "execution_count": 37
        },
        {
          "output_type": "display_data",
          "data": {
            "image/png": "[encoded data removed]",
            "text/plain": [
              "<Figure size 864x432 with 1 Axes>"
            ]
          },
          "metadata": {
            "tags": [],
            "needs_background": "light"
          }
        }
      ]
    },
    {
      "cell_type": "markdown",
      "metadata": {
        "id": "SAjL4ohDDtKt",
        "colab_type": "text"
      },
      "source": [
        "## Pergunta: Quero fazer um filme que seja sucesso de crítica, com pessoas dando notas altas, mesmo que não tenha um número muito grande de pessoas assistindo. Qual gênero você recomenda se tenho que escolher somente um entre `Adventure` e `Horror`?"
      ]
    },
    {
      "cell_type": "markdown",
      "metadata": {
        "id": "3Ta2av60DtKu",
        "colab_type": "text"
      },
      "source": [
        "### Solução: Horror. Apesar das médias serem parecidas, as notas do gênero em questão começam a partir de 2.8.\n",
        "\n"
      ]
    },
    {
      "cell_type": "markdown",
      "metadata": {
        "id": "whn47r58DtKv",
        "colab_type": "text"
      },
      "source": [
        "## Pergunta: nossa análise foi até então visual. Aplique um teste estatístico para verificar se existe significância estatística na distribuição das notas dos filmes de `Adventure` e `Horror`.\n",
        "\n",
        "Passos:\n",
        "\n",
        "- visualize a distribuição de ambas através de histogramas\n",
        "- se suspeitar normalidade na distribuição, faça um teste de normalidade para ambas\n",
        "- aplique um teste adequado de comparação das distribuições\n",
        "- explique o resultado encontrado\n",
        "- utilize p=0.05"
      ]
    },
    {
      "cell_type": "code",
      "metadata": {
        "id": "AjMrywp1DtKw",
        "colab_type": "code",
        "outputId": "41af4dcd-6520-4858-b806-3ba3ea235a3a",
        "colab": {
          "base_uri": "https://localhost:8080/",
          "height": 422
        }
      },
      "source": [
        "# solucao histograma de aventura\n",
        "ax = sns.distplot(nota_media_adventure)\n",
        "ax.figure.set_size_inches(12,6)\n",
        "ax.set_title('Histograma das notas médias dos filmes de aventura')\n",
        "ax"
      ],
      "execution_count": 38,
      "outputs": [
        {
          "output_type": "execute_result",
          "data": {
            "text/plain": [
              "<matplotlib.axes._subplots.AxesSubplot at 0x7f3b6d234f60>"
            ]
          },
          "metadata": {
            "tags": []
          },
          "execution_count": 38
        },
        {
          "output_type": "display_data",
          "data": {
            "image/png": "[encoded data removed]",
            "text/plain": [
              "<Figure size 864x432 with 1 Axes>"
            ]
          },
          "metadata": {
            "tags": [],
            "needs_background": "light"
          }
        }
      ]
    },
    {
      "cell_type": "code",
      "metadata": {
        "id": "WsLeOobLDtKz",
        "colab_type": "code",
        "outputId": "b102df47-b868-4681-b360-9cbcbb54eced",
        "colab": {
          "base_uri": "https://localhost:8080/",
          "height": 422
        }
      },
      "source": [
        "# solucao histograma de horror\n",
        "ax = sns.distplot(nota_media_horror)\n",
        "ax.figure.set_size_inches(12,6)\n",
        "ax.set_title('Histograma das notas médias dos filmes de horror')\n",
        "ax"
      ],
      "execution_count": 39,
      "outputs": [
        {
          "output_type": "execute_result",
          "data": {
            "text/plain": [
              "<matplotlib.axes._subplots.AxesSubplot at 0x7f3b6d1ae048>"
            ]
          },
          "metadata": {
            "tags": []
          },
          "execution_count": 39
        },
        {
          "output_type": "display_data",
          "data": {
            "image/png": "[encoded data removed]",
            "text/plain": [
              "<Figure size 864x432 with 1 Axes>"
            ]
          },
          "metadata": {
            "tags": [],
            "needs_background": "light"
          }
        }
      ]
    },
    {
      "cell_type": "code",
      "metadata": {
        "id": "QRAVVLMxDtK3",
        "colab_type": "code",
        "outputId": "d716a79e-4fa1-45d1-c984-4288c4ee4d7e",
        "colab": {
          "base_uri": "https://localhost:8080/",
          "height": 34
        }
      },
      "source": [
        "# solucao teste de normalidade ou justificativa para nao utiliza-lo\n",
        "\n",
        "_, p = normaltest(nota_media_adventure)\n",
        "p"
      ],
      "execution_count": 40,
      "outputs": [
        {
          "output_type": "execute_result",
          "data": {
            "text/plain": [
              "0.012835697582553224"
            ]
          },
          "metadata": {
            "tags": []
          },
          "execution_count": 40
        }
      ]
    },
    {
      "cell_type": "code",
      "metadata": {
        "id": "AbBFsRn8DtK8",
        "colab_type": "code",
        "outputId": "c48cdf5d-3632-4f9b-a9fc-d1beb57f0e38",
        "colab": {
          "base_uri": "https://localhost:8080/",
          "height": 34
        }
      },
      "source": [
        "# solução com o teste desejado\n",
        "\n",
        "_, p = ranksums(nota_media_adventure, nota_media_horror)\n",
        "p"
      ],
      "execution_count": 41,
      "outputs": [
        {
          "output_type": "execute_result",
          "data": {
            "text/plain": [
              "0.8310397344212459"
            ]
          },
          "metadata": {
            "tags": []
          },
          "execution_count": 41
        }
      ]
    },
    {
      "cell_type": "markdown",
      "metadata": {
        "id": "DtQpMLpADtK_",
        "colab_type": "text"
      },
      "source": [
        "## Sua recomendação para maior sucesso de crítica em nota alta entre `Horror` e `Adventure` continua a mesma? Explique.\n",
        "\n"
      ]
    },
    {
      "cell_type": "markdown",
      "metadata": {
        "id": "nv-x6vt1DtLA",
        "colab_type": "text"
      },
      "source": [
        "### Solução: Sim.\n"
      ]
    },
    {
      "cell_type": "markdown",
      "metadata": {
        "id": "sMRTgSfvDtLB",
        "colab_type": "text"
      },
      "source": [
        "## Pergunta: Quero fazer um filme que seja primeiro sucesso de crítica, com pessoas dando notas altas. Em segundo lugar quero que seja popular (mais pessoas assistam). Com as informações visuais e estatísticas, supondo poder escolher somente um, qual dois 2 gêneros você recomenda agora? `Horror` ou `Adventure`?"
      ]
    },
    {
      "cell_type": "markdown",
      "metadata": {
        "id": "BNdS_EqlDtLB",
        "colab_type": "text"
      },
      "source": [
        "### Solução: Adventure. Visto que as estatisticas das notas são próximas e a popularidade de adventure é maior, a melhor opção seria adventure\n",
        "\n"
      ]
    },
    {
      "cell_type": "markdown",
      "metadata": {
        "id": "j2OVodx5DtLC",
        "colab_type": "text"
      },
      "source": [
        "## Pergunta: Quais são os top 5 filmes dos 2 generos mais assistidas?\n",
        "\n",
        "- utilize os 2 generos mais votados em `votos_por_genero`\n",
        "- utilize a `nota_media` para definir o top 5 filmes\n",
        "- o resultado são 5, não 10 filmes"
      ]
    },
    {
      "cell_type": "code",
      "metadata": {
        "id": "absyGa6PDtLD",
        "colab_type": "code",
        "outputId": "10e8b4dc-8427-4f2d-c011-cd2d8d7351a4",
        "colab": {
          "base_uri": "https://localhost:8080/",
          "height": 357
        }
      },
      "source": [
        "votos_por_genero_por_filme1"
      ],
      "execution_count": 42,
      "outputs": [
        {
          "output_type": "execute_result",
          "data": {
            "text/plain": [
              "Action         15734.0\n",
              "Drama          15445.0\n",
              "Comedy         15330.0\n",
              "Adventure      13117.0\n",
              "Thriller       11907.0\n",
              "SciFi           8989.0\n",
              "Crime           8649.0\n",
              "Romance         7444.0\n",
              "Fantasy         5993.0\n",
              "Children        4331.0\n",
              "Mystery         3452.0\n",
              "Animation       3066.0\n",
              "IMAX            2492.0\n",
              "Horror          2215.0\n",
              "War             2113.0\n",
              "Musical         1822.0\n",
              "Western          900.0\n",
              "FilmNoir         291.0\n",
              "Documentary      108.0\n",
              "dtype: float64"
            ]
          },
          "metadata": {
            "tags": []
          },
          "execution_count": 42
        }
      ]
    },
    {
      "cell_type": "code",
      "metadata": {
        "id": "Hn4m77yaDtLG",
        "colab_type": "code",
        "outputId": "bd358aeb-6517-4336-eb5f-4e9c3fb2abb9",
        "colab": {
          "base_uri": "https://localhost:8080/",
          "height": 442
        }
      },
      "source": [
        "# solução: calculando os 2 generos mais votados\n",
        "\n",
        "nota_por_filme = []\n",
        "\n",
        "for genero in (['Action', 'Drama']):\n",
        "    # Aqui como o query recebe uma string podemos manipular o seu valor\n",
        "    votos = filmes.query(f'{genero} == 1')['nota_media']\n",
        "    nota_por_filme.append(votos)\n",
        "  \n",
        "nota_por_filme"
      ],
      "execution_count": 43,
      "outputs": [
        {
          "output_type": "execute_result",
          "data": {
            "text/plain": [
              "[filmeId\n",
              " 6         3.946078\n",
              " 10        3.496212\n",
              " 70        3.509091\n",
              " 95        3.023810\n",
              " 110       4.031646\n",
              "             ...   \n",
              " 91529     3.993421\n",
              " 96079     3.810000\n",
              " 99114     3.943662\n",
              " 112852    4.050847\n",
              " 122904    3.833333\n",
              " Name: nota_media, Length: 164, dtype: float64, filmeId\n",
              " 11        3.671429\n",
              " 16        3.926829\n",
              " 17        3.776119\n",
              " 25        3.625000\n",
              " 34        3.652344\n",
              "             ...   \n",
              " 91500     3.435185\n",
              " 99114     3.943662\n",
              " 106782    3.916667\n",
              " 109374    3.778846\n",
              " 116797    4.020000\n",
              " Name: nota_media, Length: 166, dtype: float64]"
            ]
          },
          "metadata": {
            "tags": []
          },
          "execution_count": 43
        }
      ]
    },
    {
      "cell_type": "code",
      "metadata": {
        "id": "A7ADxX8mDtLJ",
        "colab_type": "code",
        "colab": {}
      },
      "source": [
        "# solução: encontrando os top 5 filmes desses generos\n"
      ],
      "execution_count": 0,
      "outputs": []
    },
    {
      "cell_type": "markdown",
      "metadata": {
        "id": "TS-XSZPPDtLL",
        "colab_type": "text"
      },
      "source": [
        "## Pergunta: Quais são os 2 generos com maior valor de correlação com a `nota_media`? E os 2 com menor valor de correlação com a `nota_media`?\n",
        "\n",
        "- O pandas possui a função `corr` para calcular correlação entre todas as colunas"
      ]
    },
    {
      "cell_type": "code",
      "metadata": {
        "id": "l6MpZ_CdDtLM",
        "colab_type": "code",
        "colab": {
          "base_uri": "https://localhost:8080/",
          "height": 751
        },
        "outputId": "aa8d1fb5-e322-42f5-d67f-fff71fa52c2d"
      },
      "source": [
        "# solucao\n",
        "filmes.corr()"
      ],
      "execution_count": 45,
      "outputs": [
        {
          "output_type": "execute_result",
          "data": {
            "text/html": [
              "<div>\n",
              "<style scoped>\n",
              "    .dataframe tbody tr th:only-of-type {\n",
              "        vertical-align: middle;\n",
              "    }\n",
              "\n",
              "    .dataframe tbody tr th {\n",
              "        vertical-align: top;\n",
              "    }\n",
              "\n",
              "    .dataframe thead th {\n",
              "        text-align: right;\n",
              "    }\n",
              "</style>\n",
              "<table border=\"1\" class=\"dataframe\">\n",
              "  <thead>\n",
              "    <tr style=\"text-align: right;\">\n",
              "      <th></th>\n",
              "      <th>ano_de_lancamento</th>\n",
              "      <th>nota_media</th>\n",
              "      <th>total_de_votos</th>\n",
              "      <th>Action</th>\n",
              "      <th>Adventure</th>\n",
              "      <th>Animation</th>\n",
              "      <th>Children</th>\n",
              "      <th>Comedy</th>\n",
              "      <th>Crime</th>\n",
              "      <th>Documentary</th>\n",
              "      <th>Drama</th>\n",
              "      <th>Fantasy</th>\n",
              "      <th>FilmNoir</th>\n",
              "      <th>Horror</th>\n",
              "      <th>IMAX</th>\n",
              "      <th>Musical</th>\n",
              "      <th>Mystery</th>\n",
              "      <th>Romance</th>\n",
              "      <th>SciFi</th>\n",
              "      <th>Thriller</th>\n",
              "      <th>War</th>\n",
              "      <th>Western</th>\n",
              "    </tr>\n",
              "  </thead>\n",
              "  <tbody>\n",
              "    <tr>\n",
              "      <th>ano_de_lancamento</th>\n",
              "      <td>1.000000</td>\n",
              "      <td>-0.159146</td>\n",
              "      <td>-0.028709</td>\n",
              "      <td>0.140392</td>\n",
              "      <td>0.114268</td>\n",
              "      <td>-0.052874</td>\n",
              "      <td>-0.149019</td>\n",
              "      <td>0.019272</td>\n",
              "      <td>0.060993</td>\n",
              "      <td>0.047746</td>\n",
              "      <td>0.028411</td>\n",
              "      <td>-0.076776</td>\n",
              "      <td>0.002235</td>\n",
              "      <td>-0.026873</td>\n",
              "      <td>0.248002</td>\n",
              "      <td>-0.296174</td>\n",
              "      <td>0.005591</td>\n",
              "      <td>-0.024589</td>\n",
              "      <td>0.069839</td>\n",
              "      <td>0.104458</td>\n",
              "      <td>0.026118</td>\n",
              "      <td>-0.062539</td>\n",
              "    </tr>\n",
              "    <tr>\n",
              "      <th>nota_media</th>\n",
              "      <td>-0.159146</td>\n",
              "      <td>1.000000</td>\n",
              "      <td>0.342584</td>\n",
              "      <td>-0.154089</td>\n",
              "      <td>-0.079985</td>\n",
              "      <td>0.043071</td>\n",
              "      <td>-0.030360</td>\n",
              "      <td>-0.256005</td>\n",
              "      <td>0.190220</td>\n",
              "      <td>-0.003486</td>\n",
              "      <td>0.277662</td>\n",
              "      <td>-0.020986</td>\n",
              "      <td>0.081766</td>\n",
              "      <td>-0.033877</td>\n",
              "      <td>0.064931</td>\n",
              "      <td>-0.008529</td>\n",
              "      <td>0.129914</td>\n",
              "      <td>-0.072002</td>\n",
              "      <td>-0.136717</td>\n",
              "      <td>-0.016782</td>\n",
              "      <td>0.125615</td>\n",
              "      <td>-0.059642</td>\n",
              "    </tr>\n",
              "    <tr>\n",
              "      <th>total_de_votos</th>\n",
              "      <td>-0.028709</td>\n",
              "      <td>0.342584</td>\n",
              "      <td>1.000000</td>\n",
              "      <td>0.066239</td>\n",
              "      <td>0.104380</td>\n",
              "      <td>0.023442</td>\n",
              "      <td>0.001764</td>\n",
              "      <td>-0.128527</td>\n",
              "      <td>0.079766</td>\n",
              "      <td>-0.055010</td>\n",
              "      <td>0.018779</td>\n",
              "      <td>-0.009976</td>\n",
              "      <td>-0.039408</td>\n",
              "      <td>-0.036132</td>\n",
              "      <td>-0.016285</td>\n",
              "      <td>-0.024741</td>\n",
              "      <td>-0.007051</td>\n",
              "      <td>-0.045427</td>\n",
              "      <td>0.063802</td>\n",
              "      <td>0.085525</td>\n",
              "      <td>0.087999</td>\n",
              "      <td>-0.060789</td>\n",
              "    </tr>\n",
              "    <tr>\n",
              "      <th>Action</th>\n",
              "      <td>0.140392</td>\n",
              "      <td>-0.154089</td>\n",
              "      <td>0.066239</td>\n",
              "      <td>1.000000</td>\n",
              "      <td>0.333591</td>\n",
              "      <td>-0.173589</td>\n",
              "      <td>-0.213311</td>\n",
              "      <td>-0.291578</td>\n",
              "      <td>0.061890</td>\n",
              "      <td>-0.050596</td>\n",
              "      <td>-0.253573</td>\n",
              "      <td>-0.118162</td>\n",
              "      <td>-0.022520</td>\n",
              "      <td>-0.009411</td>\n",
              "      <td>0.129896</td>\n",
              "      <td>-0.145649</td>\n",
              "      <td>-0.063915</td>\n",
              "      <td>-0.200278</td>\n",
              "      <td>0.325969</td>\n",
              "      <td>0.311401</td>\n",
              "      <td>0.070618</td>\n",
              "      <td>0.046621</td>\n",
              "    </tr>\n",
              "    <tr>\n",
              "      <th>Adventure</th>\n",
              "      <td>0.114268</td>\n",
              "      <td>-0.079985</td>\n",
              "      <td>0.104380</td>\n",
              "      <td>0.333591</td>\n",
              "      <td>1.000000</td>\n",
              "      <td>0.163576</td>\n",
              "      <td>0.178956</td>\n",
              "      <td>-0.090515</td>\n",
              "      <td>-0.241256</td>\n",
              "      <td>-0.043048</td>\n",
              "      <td>-0.290255</td>\n",
              "      <td>0.243373</td>\n",
              "      <td>-0.061015</td>\n",
              "      <td>-0.096786</td>\n",
              "      <td>0.217954</td>\n",
              "      <td>-0.049984</td>\n",
              "      <td>-0.090344</td>\n",
              "      <td>-0.173745</td>\n",
              "      <td>0.278520</td>\n",
              "      <td>-0.005431</td>\n",
              "      <td>-0.086730</td>\n",
              "      <td>0.044838</td>\n",
              "    </tr>\n",
              "    <tr>\n",
              "      <th>Animation</th>\n",
              "      <td>-0.052874</td>\n",
              "      <td>0.043071</td>\n",
              "      <td>0.023442</td>\n",
              "      <td>-0.173589</td>\n",
              "      <td>0.163576</td>\n",
              "      <td>1.000000</td>\n",
              "      <td>0.753654</td>\n",
              "      <td>0.125706</td>\n",
              "      <td>-0.091665</td>\n",
              "      <td>-0.018487</td>\n",
              "      <td>-0.121935</td>\n",
              "      <td>0.227460</td>\n",
              "      <td>-0.026203</td>\n",
              "      <td>-0.068516</td>\n",
              "      <td>0.107701</td>\n",
              "      <td>0.430701</td>\n",
              "      <td>-0.052933</td>\n",
              "      <td>0.021108</td>\n",
              "      <td>-0.097383</td>\n",
              "      <td>-0.167796</td>\n",
              "      <td>-0.058093</td>\n",
              "      <td>-0.045797</td>\n",
              "    </tr>\n",
              "    <tr>\n",
              "      <th>Children</th>\n",
              "      <td>-0.149019</td>\n",
              "      <td>-0.030360</td>\n",
              "      <td>0.001764</td>\n",
              "      <td>-0.213311</td>\n",
              "      <td>0.178956</td>\n",
              "      <td>0.753654</td>\n",
              "      <td>1.000000</td>\n",
              "      <td>0.119962</td>\n",
              "      <td>-0.130389</td>\n",
              "      <td>-0.022818</td>\n",
              "      <td>-0.125559</td>\n",
              "      <td>0.371888</td>\n",
              "      <td>-0.032341</td>\n",
              "      <td>-0.084567</td>\n",
              "      <td>0.092512</td>\n",
              "      <td>0.406724</td>\n",
              "      <td>-0.077583</td>\n",
              "      <td>-0.016294</td>\n",
              "      <td>-0.101054</td>\n",
              "      <td>-0.207105</td>\n",
              "      <td>-0.071703</td>\n",
              "      <td>-0.056526</td>\n",
              "    </tr>\n",
              "    <tr>\n",
              "      <th>Comedy</th>\n",
              "      <td>0.019272</td>\n",
              "      <td>-0.256005</td>\n",
              "      <td>-0.128527</td>\n",
              "      <td>-0.291578</td>\n",
              "      <td>-0.090515</td>\n",
              "      <td>0.125706</td>\n",
              "      <td>0.119962</td>\n",
              "      <td>1.000000</td>\n",
              "      <td>-0.126158</td>\n",
              "      <td>0.013323</td>\n",
              "      <td>-0.288999</td>\n",
              "      <td>0.095479</td>\n",
              "      <td>-0.077683</td>\n",
              "      <td>-0.028315</td>\n",
              "      <td>-0.155010</td>\n",
              "      <td>0.054861</td>\n",
              "      <td>-0.200222</td>\n",
              "      <td>0.229377</td>\n",
              "      <td>-0.213558</td>\n",
              "      <td>-0.364583</td>\n",
              "      <td>-0.082082</td>\n",
              "      <td>0.004876</td>\n",
              "    </tr>\n",
              "    <tr>\n",
              "      <th>Crime</th>\n",
              "      <td>0.060993</td>\n",
              "      <td>0.190220</td>\n",
              "      <td>0.079766</td>\n",
              "      <td>0.061890</td>\n",
              "      <td>-0.241256</td>\n",
              "      <td>-0.091665</td>\n",
              "      <td>-0.130389</td>\n",
              "      <td>-0.126158</td>\n",
              "      <td>1.000000</td>\n",
              "      <td>-0.032710</td>\n",
              "      <td>0.092210</td>\n",
              "      <td>-0.155243</td>\n",
              "      <td>0.193444</td>\n",
              "      <td>-0.048878</td>\n",
              "      <td>-0.032924</td>\n",
              "      <td>-0.108315</td>\n",
              "      <td>0.114410</td>\n",
              "      <td>-0.207496</td>\n",
              "      <td>-0.178411</td>\n",
              "      <td>0.248836</td>\n",
              "      <td>-0.074806</td>\n",
              "      <td>-0.081033</td>\n",
              "    </tr>\n",
              "    <tr>\n",
              "      <th>Documentary</th>\n",
              "      <td>0.047746</td>\n",
              "      <td>-0.003486</td>\n",
              "      <td>-0.055010</td>\n",
              "      <td>-0.050596</td>\n",
              "      <td>-0.043048</td>\n",
              "      <td>-0.018487</td>\n",
              "      <td>-0.022818</td>\n",
              "      <td>0.013323</td>\n",
              "      <td>-0.032710</td>\n",
              "      <td>1.000000</td>\n",
              "      <td>0.018156</td>\n",
              "      <td>-0.027700</td>\n",
              "      <td>-0.006328</td>\n",
              "      <td>-0.016545</td>\n",
              "      <td>-0.017211</td>\n",
              "      <td>-0.014783</td>\n",
              "      <td>-0.020292</td>\n",
              "      <td>-0.032243</td>\n",
              "      <td>-0.033871</td>\n",
              "      <td>-0.040520</td>\n",
              "      <td>-0.014029</td>\n",
              "      <td>-0.011059</td>\n",
              "    </tr>\n",
              "    <tr>\n",
              "      <th>Drama</th>\n",
              "      <td>0.028411</td>\n",
              "      <td>0.277662</td>\n",
              "      <td>0.018779</td>\n",
              "      <td>-0.253573</td>\n",
              "      <td>-0.290255</td>\n",
              "      <td>-0.121935</td>\n",
              "      <td>-0.125559</td>\n",
              "      <td>-0.288999</td>\n",
              "      <td>0.092210</td>\n",
              "      <td>0.018156</td>\n",
              "      <td>1.000000</td>\n",
              "      <td>-0.121680</td>\n",
              "      <td>-0.023335</td>\n",
              "      <td>-0.110364</td>\n",
              "      <td>-0.082535</td>\n",
              "      <td>-0.081810</td>\n",
              "      <td>0.016269</td>\n",
              "      <td>0.066415</td>\n",
              "      <td>-0.159169</td>\n",
              "      <td>-0.037764</td>\n",
              "      <td>0.205919</td>\n",
              "      <td>-0.012197</td>\n",
              "    </tr>\n",
              "    <tr>\n",
              "      <th>Fantasy</th>\n",
              "      <td>-0.076776</td>\n",
              "      <td>-0.020986</td>\n",
              "      <td>-0.009976</td>\n",
              "      <td>-0.118162</td>\n",
              "      <td>0.243373</td>\n",
              "      <td>0.227460</td>\n",
              "      <td>0.371888</td>\n",
              "      <td>0.095479</td>\n",
              "      <td>-0.155243</td>\n",
              "      <td>-0.027700</td>\n",
              "      <td>-0.121680</td>\n",
              "      <td>1.000000</td>\n",
              "      <td>-0.039262</td>\n",
              "      <td>-0.021896</td>\n",
              "      <td>0.153250</td>\n",
              "      <td>0.146522</td>\n",
              "      <td>-0.035543</td>\n",
              "      <td>0.024607</td>\n",
              "      <td>-0.147863</td>\n",
              "      <td>-0.180585</td>\n",
              "      <td>-0.055809</td>\n",
              "      <td>-0.068621</td>\n",
              "    </tr>\n",
              "    <tr>\n",
              "      <th>FilmNoir</th>\n",
              "      <td>0.002235</td>\n",
              "      <td>0.081766</td>\n",
              "      <td>-0.039408</td>\n",
              "      <td>-0.022520</td>\n",
              "      <td>-0.061015</td>\n",
              "      <td>-0.026203</td>\n",
              "      <td>-0.032341</td>\n",
              "      <td>-0.077683</td>\n",
              "      <td>0.193444</td>\n",
              "      <td>-0.006328</td>\n",
              "      <td>-0.023335</td>\n",
              "      <td>-0.039262</td>\n",
              "      <td>1.000000</td>\n",
              "      <td>-0.023451</td>\n",
              "      <td>-0.024394</td>\n",
              "      <td>-0.020953</td>\n",
              "      <td>0.311831</td>\n",
              "      <td>-0.045701</td>\n",
              "      <td>-0.048008</td>\n",
              "      <td>0.156159</td>\n",
              "      <td>-0.019884</td>\n",
              "      <td>-0.015675</td>\n",
              "    </tr>\n",
              "    <tr>\n",
              "      <th>Horror</th>\n",
              "      <td>-0.026873</td>\n",
              "      <td>-0.033877</td>\n",
              "      <td>-0.036132</td>\n",
              "      <td>-0.009411</td>\n",
              "      <td>-0.096786</td>\n",
              "      <td>-0.068516</td>\n",
              "      <td>-0.084567</td>\n",
              "      <td>-0.028315</td>\n",
              "      <td>-0.048878</td>\n",
              "      <td>-0.016545</td>\n",
              "      <td>-0.110364</td>\n",
              "      <td>-0.021896</td>\n",
              "      <td>-0.023451</td>\n",
              "      <td>1.000000</td>\n",
              "      <td>-0.024358</td>\n",
              "      <td>-0.009633</td>\n",
              "      <td>0.130315</td>\n",
              "      <td>-0.095167</td>\n",
              "      <td>0.016164</td>\n",
              "      <td>0.064634</td>\n",
              "      <td>-0.051993</td>\n",
              "      <td>-0.040988</td>\n",
              "    </tr>\n",
              "    <tr>\n",
              "      <th>IMAX</th>\n",
              "      <td>0.248002</td>\n",
              "      <td>0.064931</td>\n",
              "      <td>-0.016285</td>\n",
              "      <td>0.129896</td>\n",
              "      <td>0.217954</td>\n",
              "      <td>0.107701</td>\n",
              "      <td>0.092512</td>\n",
              "      <td>-0.155010</td>\n",
              "      <td>-0.032924</td>\n",
              "      <td>-0.017211</td>\n",
              "      <td>-0.082535</td>\n",
              "      <td>0.153250</td>\n",
              "      <td>-0.024394</td>\n",
              "      <td>-0.024358</td>\n",
              "      <td>1.000000</td>\n",
              "      <td>0.030240</td>\n",
              "      <td>0.021028</td>\n",
              "      <td>-0.077298</td>\n",
              "      <td>0.120340</td>\n",
              "      <td>-0.010974</td>\n",
              "      <td>-0.008336</td>\n",
              "      <td>-0.042636</td>\n",
              "    </tr>\n",
              "    <tr>\n",
              "      <th>Musical</th>\n",
              "      <td>-0.296174</td>\n",
              "      <td>-0.008529</td>\n",
              "      <td>-0.024741</td>\n",
              "      <td>-0.145649</td>\n",
              "      <td>-0.049984</td>\n",
              "      <td>0.430701</td>\n",
              "      <td>0.406724</td>\n",
              "      <td>0.054861</td>\n",
              "      <td>-0.108315</td>\n",
              "      <td>-0.014783</td>\n",
              "      <td>-0.081810</td>\n",
              "      <td>0.146522</td>\n",
              "      <td>-0.020953</td>\n",
              "      <td>-0.009633</td>\n",
              "      <td>0.030240</td>\n",
              "      <td>1.000000</td>\n",
              "      <td>-0.067193</td>\n",
              "      <td>0.081647</td>\n",
              "      <td>-0.086035</td>\n",
              "      <td>-0.134176</td>\n",
              "      <td>-0.046454</td>\n",
              "      <td>-0.036621</td>\n",
              "    </tr>\n",
              "    <tr>\n",
              "      <th>Mystery</th>\n",
              "      <td>0.005591</td>\n",
              "      <td>0.129914</td>\n",
              "      <td>-0.007051</td>\n",
              "      <td>-0.063915</td>\n",
              "      <td>-0.090344</td>\n",
              "      <td>-0.052933</td>\n",
              "      <td>-0.077583</td>\n",
              "      <td>-0.200222</td>\n",
              "      <td>0.114410</td>\n",
              "      <td>-0.020292</td>\n",
              "      <td>0.016269</td>\n",
              "      <td>-0.035543</td>\n",
              "      <td>0.311831</td>\n",
              "      <td>0.130315</td>\n",
              "      <td>0.021028</td>\n",
              "      <td>-0.067193</td>\n",
              "      <td>1.000000</td>\n",
              "      <td>-0.064884</td>\n",
              "      <td>-0.015237</td>\n",
              "      <td>0.320529</td>\n",
              "      <td>-0.063765</td>\n",
              "      <td>-0.050269</td>\n",
              "    </tr>\n",
              "    <tr>\n",
              "      <th>Romance</th>\n",
              "      <td>-0.024589</td>\n",
              "      <td>-0.072002</td>\n",
              "      <td>-0.045427</td>\n",
              "      <td>-0.200278</td>\n",
              "      <td>-0.173745</td>\n",
              "      <td>0.021108</td>\n",
              "      <td>-0.016294</td>\n",
              "      <td>0.229377</td>\n",
              "      <td>-0.207496</td>\n",
              "      <td>-0.032243</td>\n",
              "      <td>0.066415</td>\n",
              "      <td>0.024607</td>\n",
              "      <td>-0.045701</td>\n",
              "      <td>-0.095167</td>\n",
              "      <td>-0.077298</td>\n",
              "      <td>0.081647</td>\n",
              "      <td>-0.064884</td>\n",
              "      <td>1.000000</td>\n",
              "      <td>-0.188324</td>\n",
              "      <td>-0.203024</td>\n",
              "      <td>-0.016625</td>\n",
              "      <td>-0.009397</td>\n",
              "    </tr>\n",
              "    <tr>\n",
              "      <th>SciFi</th>\n",
              "      <td>0.069839</td>\n",
              "      <td>-0.136717</td>\n",
              "      <td>0.063802</td>\n",
              "      <td>0.325969</td>\n",
              "      <td>0.278520</td>\n",
              "      <td>-0.097383</td>\n",
              "      <td>-0.101054</td>\n",
              "      <td>-0.213558</td>\n",
              "      <td>-0.178411</td>\n",
              "      <td>-0.033871</td>\n",
              "      <td>-0.159169</td>\n",
              "      <td>-0.147863</td>\n",
              "      <td>-0.048008</td>\n",
              "      <td>0.016164</td>\n",
              "      <td>0.120340</td>\n",
              "      <td>-0.086035</td>\n",
              "      <td>-0.015237</td>\n",
              "      <td>-0.188324</td>\n",
              "      <td>1.000000</td>\n",
              "      <td>0.139962</td>\n",
              "      <td>-0.106436</td>\n",
              "      <td>-0.015505</td>\n",
              "    </tr>\n",
              "    <tr>\n",
              "      <th>Thriller</th>\n",
              "      <td>0.104458</td>\n",
              "      <td>-0.016782</td>\n",
              "      <td>0.085525</td>\n",
              "      <td>0.311401</td>\n",
              "      <td>-0.005431</td>\n",
              "      <td>-0.167796</td>\n",
              "      <td>-0.207105</td>\n",
              "      <td>-0.364583</td>\n",
              "      <td>0.248836</td>\n",
              "      <td>-0.040520</td>\n",
              "      <td>-0.037764</td>\n",
              "      <td>-0.180585</td>\n",
              "      <td>0.156159</td>\n",
              "      <td>0.064634</td>\n",
              "      <td>-0.010974</td>\n",
              "      <td>-0.134176</td>\n",
              "      <td>0.320529</td>\n",
              "      <td>-0.203024</td>\n",
              "      <td>0.139962</td>\n",
              "      <td>1.000000</td>\n",
              "      <td>-0.052561</td>\n",
              "      <td>-0.100380</td>\n",
              "    </tr>\n",
              "    <tr>\n",
              "      <th>War</th>\n",
              "      <td>0.026118</td>\n",
              "      <td>0.125615</td>\n",
              "      <td>0.087999</td>\n",
              "      <td>0.070618</td>\n",
              "      <td>-0.086730</td>\n",
              "      <td>-0.058093</td>\n",
              "      <td>-0.071703</td>\n",
              "      <td>-0.082082</td>\n",
              "      <td>-0.074806</td>\n",
              "      <td>-0.014029</td>\n",
              "      <td>0.205919</td>\n",
              "      <td>-0.055809</td>\n",
              "      <td>-0.019884</td>\n",
              "      <td>-0.051993</td>\n",
              "      <td>-0.008336</td>\n",
              "      <td>-0.046454</td>\n",
              "      <td>-0.063765</td>\n",
              "      <td>-0.016625</td>\n",
              "      <td>-0.106436</td>\n",
              "      <td>-0.052561</td>\n",
              "      <td>1.000000</td>\n",
              "      <td>0.033838</td>\n",
              "    </tr>\n",
              "    <tr>\n",
              "      <th>Western</th>\n",
              "      <td>-0.062539</td>\n",
              "      <td>-0.059642</td>\n",
              "      <td>-0.060789</td>\n",
              "      <td>0.046621</td>\n",
              "      <td>0.044838</td>\n",
              "      <td>-0.045797</td>\n",
              "      <td>-0.056526</td>\n",
              "      <td>0.004876</td>\n",
              "      <td>-0.081033</td>\n",
              "      <td>-0.011059</td>\n",
              "      <td>-0.012197</td>\n",
              "      <td>-0.068621</td>\n",
              "      <td>-0.015675</td>\n",
              "      <td>-0.040988</td>\n",
              "      <td>-0.042636</td>\n",
              "      <td>-0.036621</td>\n",
              "      <td>-0.050269</td>\n",
              "      <td>-0.009397</td>\n",
              "      <td>-0.015505</td>\n",
              "      <td>-0.100380</td>\n",
              "      <td>0.033838</td>\n",
              "      <td>1.000000</td>\n",
              "    </tr>\n",
              "  </tbody>\n",
              "</table>\n",
              "</div>"
            ],
            "text/plain": [
              "                   ano_de_lancamento  nota_media  ...       War   Western\n",
              "ano_de_lancamento           1.000000   -0.159146  ...  0.026118 -0.062539\n",
              "nota_media                 -0.159146    1.000000  ...  0.125615 -0.059642\n",
              "total_de_votos             -0.028709    0.342584  ...  0.087999 -0.060789\n",
              "Action                      0.140392   -0.154089  ...  0.070618  0.046621\n",
              "Adventure                   0.114268   -0.079985  ... -0.086730  0.044838\n",
              "Animation                  -0.052874    0.043071  ... -0.058093 -0.045797\n",
              "Children                   -0.149019   -0.030360  ... -0.071703 -0.056526\n",
              "Comedy                      0.019272   -0.256005  ... -0.082082  0.004876\n",
              "Crime                       0.060993    0.190220  ... -0.074806 -0.081033\n",
              "Documentary                 0.047746   -0.003486  ... -0.014029 -0.011059\n",
              "Drama                       0.028411    0.277662  ...  0.205919 -0.012197\n",
              "Fantasy                    -0.076776   -0.020986  ... -0.055809 -0.068621\n",
              "FilmNoir                    0.002235    0.081766  ... -0.019884 -0.015675\n",
              "Horror                     -0.026873   -0.033877  ... -0.051993 -0.040988\n",
              "IMAX                        0.248002    0.064931  ... -0.008336 -0.042636\n",
              "Musical                    -0.296174   -0.008529  ... -0.046454 -0.036621\n",
              "Mystery                     0.005591    0.129914  ... -0.063765 -0.050269\n",
              "Romance                    -0.024589   -0.072002  ... -0.016625 -0.009397\n",
              "SciFi                       0.069839   -0.136717  ... -0.106436 -0.015505\n",
              "Thriller                    0.104458   -0.016782  ... -0.052561 -0.100380\n",
              "War                         0.026118    0.125615  ...  1.000000  0.033838\n",
              "Western                    -0.062539   -0.059642  ...  0.033838  1.000000\n",
              "\n",
              "[22 rows x 22 columns]"
            ]
          },
          "metadata": {
            "tags": []
          },
          "execution_count": 45
        }
      ]
    },
    {
      "cell_type": "markdown",
      "metadata": {
        "id": "Ew6IKs6_jMiA",
        "colab_type": "text"
      },
      "source": [
        "### Solução\n",
        "Os dois gêneros com maior correlção com a nota média são:Drama e Comedy\n",
        "\n",
        "Os dois gêneros com menor correlção com a nota média são:Documentary e Musical"
      ]
    },
    {
      "cell_type": "markdown",
      "metadata": {
        "id": "ExpbrsoHDtLP",
        "colab_type": "text"
      },
      "source": [
        "## Pergunta: Quais são os 2 generos com maior valor de correlação com `total_de_votos`? E quais os 2 com menor valor de correlação com `total_de_votos`?"
      ]
    },
    {
      "cell_type": "markdown",
      "metadata": {
        "id": "E3nsDlkskFkp",
        "colab_type": "text"
      },
      "source": [
        "### Solução\n",
        "Os dois gêneros com maior correlção com a nota média são: Children e Mistery\n",
        "\n",
        "Os dois gêneros com menor correlção com a nota média são: Adventure e Comedy"
      ]
    },
    {
      "cell_type": "markdown",
      "metadata": {
        "id": "NyZcF7fzDtLT",
        "colab_type": "text"
      },
      "source": [
        "## Pergunta: Visualize graficamente o relacionamento entre ano de lançamento e nota média\n",
        "\n",
        "- Use o gráfico `lineplot`"
      ]
    },
    {
      "cell_type": "code",
      "metadata": {
        "id": "_BTW-__E0LNG",
        "colab_type": "code",
        "outputId": "614a471c-9801-426c-a73a-c41d9e21614b",
        "colab": {
          "base_uri": "https://localhost:8080/",
          "height": 357
        }
      },
      "source": [
        "filmes.head()"
      ],
      "execution_count": 46,
      "outputs": [
        {
          "output_type": "execute_result",
          "data": {
            "text/html": [
              "<div>\n",
              "<style scoped>\n",
              "    .dataframe tbody tr th:only-of-type {\n",
              "        vertical-align: middle;\n",
              "    }\n",
              "\n",
              "    .dataframe tbody tr th {\n",
              "        vertical-align: top;\n",
              "    }\n",
              "\n",
              "    .dataframe thead th {\n",
              "        text-align: right;\n",
              "    }\n",
              "</style>\n",
              "<table border=\"1\" class=\"dataframe\">\n",
              "  <thead>\n",
              "    <tr style=\"text-align: right;\">\n",
              "      <th></th>\n",
              "      <th>titulo</th>\n",
              "      <th>ano_de_lancamento</th>\n",
              "      <th>nota_media</th>\n",
              "      <th>total_de_votos</th>\n",
              "      <th>Action</th>\n",
              "      <th>Adventure</th>\n",
              "      <th>Animation</th>\n",
              "      <th>Children</th>\n",
              "      <th>Comedy</th>\n",
              "      <th>Crime</th>\n",
              "      <th>Documentary</th>\n",
              "      <th>Drama</th>\n",
              "      <th>Fantasy</th>\n",
              "      <th>FilmNoir</th>\n",
              "      <th>Horror</th>\n",
              "      <th>IMAX</th>\n",
              "      <th>Musical</th>\n",
              "      <th>Mystery</th>\n",
              "      <th>Romance</th>\n",
              "      <th>SciFi</th>\n",
              "      <th>Thriller</th>\n",
              "      <th>War</th>\n",
              "      <th>Western</th>\n",
              "    </tr>\n",
              "    <tr>\n",
              "      <th>filmeId</th>\n",
              "      <th></th>\n",
              "      <th></th>\n",
              "      <th></th>\n",
              "      <th></th>\n",
              "      <th></th>\n",
              "      <th></th>\n",
              "      <th></th>\n",
              "      <th></th>\n",
              "      <th></th>\n",
              "      <th></th>\n",
              "      <th></th>\n",
              "      <th></th>\n",
              "      <th></th>\n",
              "      <th></th>\n",
              "      <th></th>\n",
              "      <th></th>\n",
              "      <th></th>\n",
              "      <th></th>\n",
              "      <th></th>\n",
              "      <th></th>\n",
              "      <th></th>\n",
              "      <th></th>\n",
              "      <th></th>\n",
              "    </tr>\n",
              "  </thead>\n",
              "  <tbody>\n",
              "    <tr>\n",
              "      <th>1</th>\n",
              "      <td>Toy Story (1995)</td>\n",
              "      <td>1995.0</td>\n",
              "      <td>3.920930</td>\n",
              "      <td>215.0</td>\n",
              "      <td>0</td>\n",
              "      <td>1</td>\n",
              "      <td>1</td>\n",
              "      <td>1</td>\n",
              "      <td>1</td>\n",
              "      <td>0</td>\n",
              "      <td>0</td>\n",
              "      <td>0</td>\n",
              "      <td>1</td>\n",
              "      <td>0</td>\n",
              "      <td>0</td>\n",
              "      <td>0</td>\n",
              "      <td>0</td>\n",
              "      <td>0</td>\n",
              "      <td>0</td>\n",
              "      <td>0</td>\n",
              "      <td>0</td>\n",
              "      <td>0</td>\n",
              "      <td>0</td>\n",
              "    </tr>\n",
              "    <tr>\n",
              "      <th>2</th>\n",
              "      <td>Jumanji (1995)</td>\n",
              "      <td>1995.0</td>\n",
              "      <td>3.431818</td>\n",
              "      <td>110.0</td>\n",
              "      <td>0</td>\n",
              "      <td>1</td>\n",
              "      <td>0</td>\n",
              "      <td>1</td>\n",
              "      <td>0</td>\n",
              "      <td>0</td>\n",
              "      <td>0</td>\n",
              "      <td>0</td>\n",
              "      <td>1</td>\n",
              "      <td>0</td>\n",
              "      <td>0</td>\n",
              "      <td>0</td>\n",
              "      <td>0</td>\n",
              "      <td>0</td>\n",
              "      <td>0</td>\n",
              "      <td>0</td>\n",
              "      <td>0</td>\n",
              "      <td>0</td>\n",
              "      <td>0</td>\n",
              "    </tr>\n",
              "    <tr>\n",
              "      <th>3</th>\n",
              "      <td>Grumpier Old Men (1995)</td>\n",
              "      <td>1995.0</td>\n",
              "      <td>3.259615</td>\n",
              "      <td>52.0</td>\n",
              "      <td>0</td>\n",
              "      <td>0</td>\n",
              "      <td>0</td>\n",
              "      <td>0</td>\n",
              "      <td>1</td>\n",
              "      <td>0</td>\n",
              "      <td>0</td>\n",
              "      <td>0</td>\n",
              "      <td>0</td>\n",
              "      <td>0</td>\n",
              "      <td>0</td>\n",
              "      <td>0</td>\n",
              "      <td>0</td>\n",
              "      <td>0</td>\n",
              "      <td>1</td>\n",
              "      <td>0</td>\n",
              "      <td>0</td>\n",
              "      <td>0</td>\n",
              "      <td>0</td>\n",
              "    </tr>\n",
              "    <tr>\n",
              "      <th>6</th>\n",
              "      <td>Heat (1995)</td>\n",
              "      <td>1995.0</td>\n",
              "      <td>3.946078</td>\n",
              "      <td>102.0</td>\n",
              "      <td>1</td>\n",
              "      <td>0</td>\n",
              "      <td>0</td>\n",
              "      <td>0</td>\n",
              "      <td>0</td>\n",
              "      <td>1</td>\n",
              "      <td>0</td>\n",
              "      <td>0</td>\n",
              "      <td>0</td>\n",
              "      <td>0</td>\n",
              "      <td>0</td>\n",
              "      <td>0</td>\n",
              "      <td>0</td>\n",
              "      <td>0</td>\n",
              "      <td>0</td>\n",
              "      <td>0</td>\n",
              "      <td>1</td>\n",
              "      <td>0</td>\n",
              "      <td>0</td>\n",
              "    </tr>\n",
              "    <tr>\n",
              "      <th>7</th>\n",
              "      <td>Sabrina (1995)</td>\n",
              "      <td>1995.0</td>\n",
              "      <td>3.185185</td>\n",
              "      <td>54.0</td>\n",
              "      <td>0</td>\n",
              "      <td>0</td>\n",
              "      <td>0</td>\n",
              "      <td>0</td>\n",
              "      <td>1</td>\n",
              "      <td>0</td>\n",
              "      <td>0</td>\n",
              "      <td>0</td>\n",
              "      <td>0</td>\n",
              "      <td>0</td>\n",
              "      <td>0</td>\n",
              "      <td>0</td>\n",
              "      <td>0</td>\n",
              "      <td>0</td>\n",
              "      <td>1</td>\n",
              "      <td>0</td>\n",
              "      <td>0</td>\n",
              "      <td>0</td>\n",
              "      <td>0</td>\n",
              "    </tr>\n",
              "  </tbody>\n",
              "</table>\n",
              "</div>"
            ],
            "text/plain": [
              "                          titulo  ano_de_lancamento  ...  War  Western\n",
              "filmeId                                              ...              \n",
              "1               Toy Story (1995)             1995.0  ...    0        0\n",
              "2                 Jumanji (1995)             1995.0  ...    0        0\n",
              "3        Grumpier Old Men (1995)             1995.0  ...    0        0\n",
              "6                    Heat (1995)             1995.0  ...    0        0\n",
              "7                 Sabrina (1995)             1995.0  ...    0        0\n",
              "\n",
              "[5 rows x 23 columns]"
            ]
          },
          "metadata": {
            "tags": []
          },
          "execution_count": 46
        }
      ]
    },
    {
      "cell_type": "code",
      "metadata": {
        "id": "23prGImzDtLU",
        "colab_type": "code",
        "outputId": "75fe31ac-68e4-42fe-c874-31dbb5fddc7e",
        "colab": {
          "base_uri": "https://localhost:8080/",
          "height": 422
        }
      },
      "source": [
        "# solucao\n",
        "ax = sns.lineplot(x = 'ano_de_lancamento', y = 'nota_media', data = filmes)\n",
        "ax.figure.set_size_inches(12,6)\n",
        "ax.set_title('Lineplot da nota média de acordo com o ano de lançamento do filme')\n",
        "ax"
      ],
      "execution_count": 47,
      "outputs": [
        {
          "output_type": "execute_result",
          "data": {
            "text/plain": [
              "<matplotlib.axes._subplots.AxesSubplot at 0x7f3b6d0b9e80>"
            ]
          },
          "metadata": {
            "tags": []
          },
          "execution_count": 47
        },
        {
          "output_type": "display_data",
          "data": {
            "image/png": "[encoded data removed]",
            "text/plain": [
              "<Figure size 864x432 with 1 Axes>"
            ]
          },
          "metadata": {
            "tags": [],
            "needs_background": "light"
          }
        }
      ]
    },
    {
      "cell_type": "markdown",
      "metadata": {
        "id": "Nd2unLzQDtLZ",
        "colab_type": "text"
      },
      "source": [
        "## Pergunta: Interprete a correlação entre `ano_de_lancamento` e a `nota_media`?\n",
        "\n",
        "- Calcule a correlação numericamente (use o `corr` do pandas)\n",
        "- Correlação não implica causalidade, qual \"problema\" na coleta dos dados pode gerar esse tipo de correlação?"
      ]
    },
    {
      "cell_type": "code",
      "metadata": {
        "id": "hJHyudrUDtLc",
        "colab_type": "code",
        "outputId": "9bcad912-0c15-40c9-a758-ff2804b1200d",
        "colab": {
          "base_uri": "https://localhost:8080/",
          "height": 111
        }
      },
      "source": [
        "# solução (código)\n",
        "filmes[['ano_de_lancamento', 'nota_media']].corr()"
      ],
      "execution_count": 48,
      "outputs": [
        {
          "output_type": "execute_result",
          "data": {
            "text/html": [
              "<div>\n",
              "<style scoped>\n",
              "    .dataframe tbody tr th:only-of-type {\n",
              "        vertical-align: middle;\n",
              "    }\n",
              "\n",
              "    .dataframe tbody tr th {\n",
              "        vertical-align: top;\n",
              "    }\n",
              "\n",
              "    .dataframe thead th {\n",
              "        text-align: right;\n",
              "    }\n",
              "</style>\n",
              "<table border=\"1\" class=\"dataframe\">\n",
              "  <thead>\n",
              "    <tr style=\"text-align: right;\">\n",
              "      <th></th>\n",
              "      <th>ano_de_lancamento</th>\n",
              "      <th>nota_media</th>\n",
              "    </tr>\n",
              "  </thead>\n",
              "  <tbody>\n",
              "    <tr>\n",
              "      <th>ano_de_lancamento</th>\n",
              "      <td>1.000000</td>\n",
              "      <td>-0.159146</td>\n",
              "    </tr>\n",
              "    <tr>\n",
              "      <th>nota_media</th>\n",
              "      <td>-0.159146</td>\n",
              "      <td>1.000000</td>\n",
              "    </tr>\n",
              "  </tbody>\n",
              "</table>\n",
              "</div>"
            ],
            "text/plain": [
              "                   ano_de_lancamento  nota_media\n",
              "ano_de_lancamento           1.000000   -0.159146\n",
              "nota_media                 -0.159146    1.000000"
            ]
          },
          "metadata": {
            "tags": []
          },
          "execution_count": 48
        }
      ]
    },
    {
      "cell_type": "markdown",
      "metadata": {
        "id": "GoPkP2Q9DtLf",
        "colab_type": "text"
      },
      "source": [
        "### Solução (explicação)\n",
        "\n"
      ]
    },
    {
      "cell_type": "markdown",
      "metadata": {
        "id": "OuakLRD_DtLf",
        "colab_type": "text"
      },
      "source": [
        "## Pergunta: analise um pairplot\n",
        "\n",
        "- crie uma variável chamada `infos` baseada nas colunas `ano_de_lancamento`, `nota_media` e `total_de_votos` de `filmes`\n",
        "- faça o pairplot usando seaborn\n",
        "- coloque uma regressão linear para cada pequeno plot dentro dele"
      ]
    },
    {
      "cell_type": "code",
      "metadata": {
        "id": "EEk-2jcnDtLf",
        "colab_type": "code",
        "outputId": "ebd71741-9351-4691-a715-87811464ad0c",
        "colab": {
          "base_uri": "https://localhost:8080/",
          "height": 508
        }
      },
      "source": [
        "# solução\n",
        "infos = filmes[['ano_de_lancamento', 'nota_media', 'total_de_votos']]\n",
        "\n",
        "ax = sns.pairplot(infos, kind='reg')\n",
        "ax.fig.set_size_inches(12,6)\n",
        "ax.fig.suptitle('Análise de correlação entre Ano de Lançamento, Nota Média e Total de Votos de todos os filmes', y=1.05)\n",
        "ax"
      ],
      "execution_count": 49,
      "outputs": [
        {
          "output_type": "execute_result",
          "data": {
            "text/plain": [
              "<seaborn.axisgrid.PairGrid at 0x7f3b6d0b9710>"
            ]
          },
          "metadata": {
            "tags": []
          },
          "execution_count": 49
        },
        {
          "output_type": "display_data",
          "data": {
            "image/png": "[encoded data removed]",
            "text/plain": [
              "<Figure size 864x432 with 12 Axes>"
            ]
          },
          "metadata": {
            "tags": [],
            "needs_background": "light"
          }
        }
      ]
    },
    {
      "cell_type": "markdown",
      "metadata": {
        "id": "ZwuOVwZXDtLi",
        "colab_type": "text"
      },
      "source": [
        "## Pergunta: analise um pairplot dos filmes de `Animation`\n",
        "\n",
        "- use o dataframe `filmes`\n",
        "- em um único pairplot separe com cores distintas os filmes da categoria `Animation` dos outros\n",
        "- use uma palete como `husl`\n",
        "- use marcadores distintos para cada um dos dois grupos\n",
        "- faça o pairplot usando seaborn e coloque uma regressão linear para cada pequeno plot dentro dele\n",
        "- tanto em x quanto y use somente três variáveis: `total_de_votos`, `ano_de_lancamento`, `nota_media`"
      ]
    },
    {
      "cell_type": "code",
      "metadata": {
        "id": "ZZ-Or2LNfCBM",
        "colab_type": "code",
        "colab": {
          "base_uri": "https://localhost:8080/",
          "height": 357
        },
        "outputId": "6d15f5e2-5fb4-4c35-d76e-ce0ca096ee0f"
      },
      "source": [
        "filmes.head()"
      ],
      "execution_count": 50,
      "outputs": [
        {
          "output_type": "execute_result",
          "data": {
            "text/html": [
              "<div>\n",
              "<style scoped>\n",
              "    .dataframe tbody tr th:only-of-type {\n",
              "        vertical-align: middle;\n",
              "    }\n",
              "\n",
              "    .dataframe tbody tr th {\n",
              "        vertical-align: top;\n",
              "    }\n",
              "\n",
              "    .dataframe thead th {\n",
              "        text-align: right;\n",
              "    }\n",
              "</style>\n",
              "<table border=\"1\" class=\"dataframe\">\n",
              "  <thead>\n",
              "    <tr style=\"text-align: right;\">\n",
              "      <th></th>\n",
              "      <th>titulo</th>\n",
              "      <th>ano_de_lancamento</th>\n",
              "      <th>nota_media</th>\n",
              "      <th>total_de_votos</th>\n",
              "      <th>Action</th>\n",
              "      <th>Adventure</th>\n",
              "      <th>Animation</th>\n",
              "      <th>Children</th>\n",
              "      <th>Comedy</th>\n",
              "      <th>Crime</th>\n",
              "      <th>Documentary</th>\n",
              "      <th>Drama</th>\n",
              "      <th>Fantasy</th>\n",
              "      <th>FilmNoir</th>\n",
              "      <th>Horror</th>\n",
              "      <th>IMAX</th>\n",
              "      <th>Musical</th>\n",
              "      <th>Mystery</th>\n",
              "      <th>Romance</th>\n",
              "      <th>SciFi</th>\n",
              "      <th>Thriller</th>\n",
              "      <th>War</th>\n",
              "      <th>Western</th>\n",
              "    </tr>\n",
              "    <tr>\n",
              "      <th>filmeId</th>\n",
              "      <th></th>\n",
              "      <th></th>\n",
              "      <th></th>\n",
              "      <th></th>\n",
              "      <th></th>\n",
              "      <th></th>\n",
              "      <th></th>\n",
              "      <th></th>\n",
              "      <th></th>\n",
              "      <th></th>\n",
              "      <th></th>\n",
              "      <th></th>\n",
              "      <th></th>\n",
              "      <th></th>\n",
              "      <th></th>\n",
              "      <th></th>\n",
              "      <th></th>\n",
              "      <th></th>\n",
              "      <th></th>\n",
              "      <th></th>\n",
              "      <th></th>\n",
              "      <th></th>\n",
              "      <th></th>\n",
              "    </tr>\n",
              "  </thead>\n",
              "  <tbody>\n",
              "    <tr>\n",
              "      <th>1</th>\n",
              "      <td>Toy Story (1995)</td>\n",
              "      <td>1995.0</td>\n",
              "      <td>3.920930</td>\n",
              "      <td>215.0</td>\n",
              "      <td>0</td>\n",
              "      <td>1</td>\n",
              "      <td>1</td>\n",
              "      <td>1</td>\n",
              "      <td>1</td>\n",
              "      <td>0</td>\n",
              "      <td>0</td>\n",
              "      <td>0</td>\n",
              "      <td>1</td>\n",
              "      <td>0</td>\n",
              "      <td>0</td>\n",
              "      <td>0</td>\n",
              "      <td>0</td>\n",
              "      <td>0</td>\n",
              "      <td>0</td>\n",
              "      <td>0</td>\n",
              "      <td>0</td>\n",
              "      <td>0</td>\n",
              "      <td>0</td>\n",
              "    </tr>\n",
              "    <tr>\n",
              "      <th>2</th>\n",
              "      <td>Jumanji (1995)</td>\n",
              "      <td>1995.0</td>\n",
              "      <td>3.431818</td>\n",
              "      <td>110.0</td>\n",
              "      <td>0</td>\n",
              "      <td>1</td>\n",
              "      <td>0</td>\n",
              "      <td>1</td>\n",
              "      <td>0</td>\n",
              "      <td>0</td>\n",
              "      <td>0</td>\n",
              "      <td>0</td>\n",
              "      <td>1</td>\n",
              "      <td>0</td>\n",
              "      <td>0</td>\n",
              "      <td>0</td>\n",
              "      <td>0</td>\n",
              "      <td>0</td>\n",
              "      <td>0</td>\n",
              "      <td>0</td>\n",
              "      <td>0</td>\n",
              "      <td>0</td>\n",
              "      <td>0</td>\n",
              "    </tr>\n",
              "    <tr>\n",
              "      <th>3</th>\n",
              "      <td>Grumpier Old Men (1995)</td>\n",
              "      <td>1995.0</td>\n",
              "      <td>3.259615</td>\n",
              "      <td>52.0</td>\n",
              "      <td>0</td>\n",
              "      <td>0</td>\n",
              "      <td>0</td>\n",
              "      <td>0</td>\n",
              "      <td>1</td>\n",
              "      <td>0</td>\n",
              "      <td>0</td>\n",
              "      <td>0</td>\n",
              "      <td>0</td>\n",
              "      <td>0</td>\n",
              "      <td>0</td>\n",
              "      <td>0</td>\n",
              "      <td>0</td>\n",
              "      <td>0</td>\n",
              "      <td>1</td>\n",
              "      <td>0</td>\n",
              "      <td>0</td>\n",
              "      <td>0</td>\n",
              "      <td>0</td>\n",
              "    </tr>\n",
              "    <tr>\n",
              "      <th>6</th>\n",
              "      <td>Heat (1995)</td>\n",
              "      <td>1995.0</td>\n",
              "      <td>3.946078</td>\n",
              "      <td>102.0</td>\n",
              "      <td>1</td>\n",
              "      <td>0</td>\n",
              "      <td>0</td>\n",
              "      <td>0</td>\n",
              "      <td>0</td>\n",
              "      <td>1</td>\n",
              "      <td>0</td>\n",
              "      <td>0</td>\n",
              "      <td>0</td>\n",
              "      <td>0</td>\n",
              "      <td>0</td>\n",
              "      <td>0</td>\n",
              "      <td>0</td>\n",
              "      <td>0</td>\n",
              "      <td>0</td>\n",
              "      <td>0</td>\n",
              "      <td>1</td>\n",
              "      <td>0</td>\n",
              "      <td>0</td>\n",
              "    </tr>\n",
              "    <tr>\n",
              "      <th>7</th>\n",
              "      <td>Sabrina (1995)</td>\n",
              "      <td>1995.0</td>\n",
              "      <td>3.185185</td>\n",
              "      <td>54.0</td>\n",
              "      <td>0</td>\n",
              "      <td>0</td>\n",
              "      <td>0</td>\n",
              "      <td>0</td>\n",
              "      <td>1</td>\n",
              "      <td>0</td>\n",
              "      <td>0</td>\n",
              "      <td>0</td>\n",
              "      <td>0</td>\n",
              "      <td>0</td>\n",
              "      <td>0</td>\n",
              "      <td>0</td>\n",
              "      <td>0</td>\n",
              "      <td>0</td>\n",
              "      <td>1</td>\n",
              "      <td>0</td>\n",
              "      <td>0</td>\n",
              "      <td>0</td>\n",
              "      <td>0</td>\n",
              "    </tr>\n",
              "  </tbody>\n",
              "</table>\n",
              "</div>"
            ],
            "text/plain": [
              "                          titulo  ano_de_lancamento  ...  War  Western\n",
              "filmeId                                              ...              \n",
              "1               Toy Story (1995)             1995.0  ...    0        0\n",
              "2                 Jumanji (1995)             1995.0  ...    0        0\n",
              "3        Grumpier Old Men (1995)             1995.0  ...    0        0\n",
              "6                    Heat (1995)             1995.0  ...    0        0\n",
              "7                 Sabrina (1995)             1995.0  ...    0        0\n",
              "\n",
              "[5 rows x 23 columns]"
            ]
          },
          "metadata": {
            "tags": []
          },
          "execution_count": 50
        }
      ]
    },
    {
      "cell_type": "code",
      "metadata": {
        "id": "eLzDTs30DtLj",
        "colab_type": "code",
        "outputId": "2bc9a3be-b4ea-4c05-8b51-d9e729ba0e2d",
        "colab": {
          "base_uri": "https://localhost:8080/",
          "height": 508
        }
      },
      "source": [
        "ax = sns.pairplot(data = filmes,\n",
        "                  x_vars=('total_de_votos', 'ano_de_lancamento', 'nota_media'),\n",
        "                  y_vars = ('total_de_votos', 'ano_de_lancamento', 'nota_media'),\n",
        "                  palette='husl', hue='Animation', markers=['o', 's'], kind='reg')\n",
        "ax.fig.set_size_inches(12,6)\n",
        "ax.fig.suptitle('Análise de correlação do gênero Animarion', y=1.05)\n",
        "ax"
      ],
      "execution_count": 51,
      "outputs": [
        {
          "output_type": "execute_result",
          "data": {
            "text/plain": [
              "<seaborn.axisgrid.PairGrid at 0x7f3b68cf05c0>"
            ]
          },
          "metadata": {
            "tags": []
          },
          "execution_count": 51
        },
        {
          "output_type": "display_data",
          "data": {
            "image/png": "[encoded data removed]",
            "text/plain": [
              "<Figure size 864x432 with 12 Axes>"
            ]
          },
          "metadata": {
            "tags": [],
            "needs_background": "light"
          }
        }
      ]
    },
    {
      "cell_type": "markdown",
      "metadata": {
        "id": "o-RXe3IFDtLl",
        "colab_type": "text"
      },
      "source": [
        "## Pergunta: Analise a regressão em relação ao ano de lançamento.\n",
        "\n",
        "- Como parece se comportar a `nota_media` de filmes de `Animation` mais antigos e mais recentes? (ano_de_lancamento x nota_media). Essa correlação parece ser baixa, mas parece ser linear?\n",
        "- E o `ano_de_lancamento` x `total_de_votos`?\n",
        "- E das outras categorias? Compare isso com os outros filmes.\n",
        "- O que leva você levantar como hipótese para esse resultado?"
      ]
    },
    {
      "cell_type": "markdown",
      "metadata": {
        "id": "QJhZ6y5xDtLn",
        "colab_type": "text"
      },
      "source": [
        "### Solução:\n",
        "A nota dos filmes de Animation parecem cair ao longo dos anos, tendo uma tendência negativa. Já em relação ao total de votos, a mesma categoria de filme tende a aumentar o número de votos. Já as demais categorias elas possuem uma tendência de aumento da nota média com o passar dos anos e um aumento no total de voto. Isso nos mostra que os filmes da categoria Animation estão ficando piores na visão dos telespectadores, enquanto os demais generos estão ficando melhores.\n"
      ]
    },
    {
      "cell_type": "markdown",
      "metadata": {
        "id": "V_T2Ab-UDtLo",
        "colab_type": "text"
      },
      "source": [
        "## Pergunta: Explore\n",
        "\n",
        "- compartilhe conosco 2 visualizações extras que julgar interessante\n",
        "- explique o que encontrou\n",
        "- use quantas células (texto ou código) julgar necessário"
      ]
    },
    {
      "cell_type": "code",
      "metadata": {
        "id": "rtoIZjwmDtLo",
        "colab_type": "code",
        "colab": {}
      },
      "source": [
        "# solução"
      ],
      "execution_count": 0,
      "outputs": []
    },
    {
      "cell_type": "code",
      "metadata": {
        "id": "yCwZRiYDDtLu",
        "colab_type": "code",
        "colab": {}
      },
      "source": [
        ""
      ],
      "execution_count": 0,
      "outputs": []
    }
  ]
}